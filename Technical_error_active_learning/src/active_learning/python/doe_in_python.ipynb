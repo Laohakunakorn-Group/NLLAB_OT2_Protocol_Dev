{
 "cells": [
  {
   "cell_type": "markdown",
   "id": "4853283b",
   "metadata": {},
   "source": [
    "# Notes\n",
    "\n",
    "Hey Michael, I've gone for Dexpy as the py package for DoE as pyDOE requires a build from source.\n",
    "\n",
    "Dexpy doesn't appear to have all the functionality we want but maybe that's a good thing as since we're both kinda new to DOE, maybe doing a bit more \"from the bottom up\" will help us learn.\n",
    "\n",
    "I'm working on a simplified experiment design as placeholder.\n",
    "\n",
    "In the end it is likely that we will use a screening-design to test as many factors as possible to identify the most influential and then conduct a response-surface-design to conduct the actual optimisation.\n",
    "\n",
    "### Dexpy Docs:\n",
    "https://statease.github.io/dexpy/example-coffee.html\n",
    "\n",
    "\n",
    "**Correction**: Dexpy is ~incomplete~ barely started, with only one function in the docs actually implemented.... errr we might have to implement ourselves or find an alternative"
   ]
  },
  {
   "cell_type": "code",
   "execution_count": 10,
   "id": "63ac5fc6",
   "metadata": {},
   "outputs": [],
   "source": [
    "import dexpy.factorial\n",
    "import dexpy.power\n",
    "import dexpy.design as design\n",
    "from dexpy.factorial import build_full_factorial\n",
    "import pandas as pd\n",
    "import numpy as np\n",
    "import statistics\n",
    "import os"
   ]
  },
  {
   "cell_type": "code",
   "execution_count": 11,
   "id": "42d56fb6",
   "metadata": {},
   "outputs": [],
   "source": [
    "prefix = \"ALTE009\"\n",
    "\n",
    "experiment_file_path = \"/app/src/OT2_scripts/\" + prefix"
   ]
  },
  {
   "cell_type": "code",
   "execution_count": 12,
   "id": "e032e10e",
   "metadata": {},
   "outputs": [],
   "source": [
    "# Our current parameters\n",
    "original_factors = {\n",
    "    \"lysate_aspirate_height_inc\" : 0.4,\n",
    "    \"lysate_aspirate_rate\" : 0.2,\n",
    "    \"lysate_dispense_rate\" : 0.1,\n",
    "    \n",
    "    \"substrates_aspirate_height_inc\" : 0.7,\n",
    "    \"substrates_aspirate_rate\" : 1,\n",
    "    \"substrates_dispense_rate\" : 1\n",
    "    }"
   ]
  },
  {
   "cell_type": "markdown",
   "id": "c44d1fd2",
   "metadata": {},
   "source": [
    "I've taken our ourrent parameters and straddled them to create a range. For simplicity every paramet will have a range of 5 possible values generated with 0.1 increments. e.g. \"lysate_aspirate_height_inc\" : \"max\": 0.6 has a range of 0.2,0.3,0.4,0.5,0.6"
   ]
  },
  {
   "cell_type": "code",
   "execution_count": 13,
   "id": "2bbb0a5b",
   "metadata": {},
   "outputs": [],
   "source": [
    "# Maximum values \n",
    "factors = {\n",
    "    \"lysate_aspirate_height_inc\" : {\"max\": 0.6},\n",
    "    \"lysate_aspirate_rate\" : {\"max\": 0.4},\n",
    "    \"lysate_dispense_rate\" : {\"max\": 0.5},\n",
    "    \n",
    "    \"substrates_aspirate_height_inc\" : {\"max\": 0.8},\n",
    "    \"substrates_aspirate_rate\" : {\"max\": 1.2},\n",
    "    \"substrates_dispense_rate\" : {\"max\": 1.2}\n",
    "    }"
   ]
  },
  {
   "cell_type": "code",
   "execution_count": 14,
   "id": "bfa9c202",
   "metadata": {},
   "outputs": [
    {
     "data": {
      "text/plain": [
       "{'lysate_aspirate_height_inc': {'max': 0.6,\n",
       "  'parameter_range': [0.1, 0.2, 0.3, 0.4, 0.5, 0.6]},\n",
       " 'lysate_aspirate_rate': {'max': 0.4, 'parameter_range': [0.1, 0.2, 0.3, 0.4]},\n",
       " 'lysate_dispense_rate': {'max': 0.5,\n",
       "  'parameter_range': [0.1, 0.2, 0.3, 0.4, 0.5]},\n",
       " 'substrates_aspirate_height_inc': {'max': 0.8,\n",
       "  'parameter_range': [0.3, 0.4, 0.5, 0.6, 0.7, 0.8]},\n",
       " 'substrates_aspirate_rate': {'max': 1.2,\n",
       "  'parameter_range': [0.7, 0.8, 0.9, 1.0, 1.1, 1.2, 1.3]},\n",
       " 'substrates_dispense_rate': {'max': 1.2,\n",
       "  'parameter_range': [0.7, 0.8, 0.9, 1.0, 1.1, 1.2, 1.3]}}"
      ]
     },
     "execution_count": 14,
     "metadata": {},
     "output_type": "execute_result"
    }
   ],
   "source": [
    "def parameter_range_generator(maximum_value, increment, length_of_range):\n",
    "    \n",
    "    # generate a python list of floats by making a numpy array and then converting.\n",
    "    parameter_range = list(np.arange(maximum_value - (length_of_range * increment) , maximum_value + increment, increment))\n",
    "    \n",
    "    # round values to 1 decimal place  to ensure exact floats\n",
    "    parameter_range = [round(value, 1) for value in parameter_range]\n",
    "    \n",
    "    # drop negative values and zero from the range\n",
    "    parameter_range = [value for value in parameter_range if value > 0]\n",
    "    \n",
    "    return parameter_range\n",
    "\n",
    "\n",
    "# Use parameter_range_generator to append the parameter_range as a nested value of each parameter of the factor dictionary.\n",
    "for parameter in factors:\n",
    "    factors[parameter][\"parameter_range\"] = parameter_range_generator(factors[parameter][\"max\"], 0.1, 5)\n",
    "\n",
    "factors"
   ]
  },
  {
   "cell_type": "markdown",
   "id": "fed934a9",
   "metadata": {},
   "source": [
    "# Adding the minimum value\n",
    "\n",
    "Adding the minimum value of the parameter_range to the dictionary for transparency when looking up later in the code."
   ]
  },
  {
   "cell_type": "code",
   "execution_count": 15,
   "id": "c27ee598",
   "metadata": {},
   "outputs": [
    {
     "data": {
      "text/plain": [
       "{'lysate_aspirate_height_inc': {'max': 0.6,\n",
       "  'parameter_range': [0.1, 0.2, 0.3, 0.4, 0.5, 0.6],\n",
       "  'min': 0.1},\n",
       " 'lysate_aspirate_rate': {'max': 0.4,\n",
       "  'parameter_range': [0.1, 0.2, 0.3, 0.4],\n",
       "  'min': 0.1},\n",
       " 'lysate_dispense_rate': {'max': 0.5,\n",
       "  'parameter_range': [0.1, 0.2, 0.3, 0.4, 0.5],\n",
       "  'min': 0.1},\n",
       " 'substrates_aspirate_height_inc': {'max': 0.8,\n",
       "  'parameter_range': [0.3, 0.4, 0.5, 0.6, 0.7, 0.8],\n",
       "  'min': 0.3},\n",
       " 'substrates_aspirate_rate': {'max': 1.2,\n",
       "  'parameter_range': [0.7, 0.8, 0.9, 1.0, 1.1, 1.2, 1.3],\n",
       "  'min': 0.7},\n",
       " 'substrates_dispense_rate': {'max': 1.2,\n",
       "  'parameter_range': [0.7, 0.8, 0.9, 1.0, 1.1, 1.2, 1.3],\n",
       "  'min': 0.7}}"
      ]
     },
     "execution_count": 15,
     "metadata": {},
     "output_type": "execute_result"
    }
   ],
   "source": [
    "# Use parameter_range_generator to append the parameter_range as a nested value of each parameter of the factor dictionary.\n",
    "for parameter in factors:\n",
    "    factors[parameter][\"min\"] = factors[parameter][\"parameter_range\"][0]\n",
    "\n",
    "factors"
   ]
  },
  {
   "cell_type": "markdown",
   "id": "ea5cfe9e",
   "metadata": {},
   "source": [
    "# Factor Metadata\n",
    "Simply gets some metadata about the factors"
   ]
  },
  {
   "cell_type": "code",
   "execution_count": 16,
   "id": "95c29e2a",
   "metadata": {},
   "outputs": [
    {
     "data": {
      "text/plain": [
       "35280"
      ]
     },
     "execution_count": 16,
     "metadata": {},
     "output_type": "execute_result"
    }
   ],
   "source": [
    "# number of factors as an integer\n",
    "number_of_factors = len(factors)\n",
    "\n",
    "# a python list of the names of the factors by getting the dictionary keys\n",
    "names_of_factors = list(factors.keys())\n",
    "\n",
    "# Total Design Space\n",
    "# the dot product of the lengths of the parameter ranges \n",
    "Total_Design_Space = 1\n",
    "for parameter in factors:\n",
    "    Total_Design_Space = Total_Design_Space * len(factors[parameter][\"parameter_range\"])\n",
    "Total_Design_Space"
   ]
  },
  {
   "cell_type": "markdown",
   "id": "9612b8af",
   "metadata": {},
   "source": [
    "# Centerpoints\n",
    "\n",
    "### Generating the centerpoints\n",
    "In the case of a parameter_range with odd-numbers, the middle value will be used. For even numbers (0.2, 0,3, 0.4, 0.5) the higher value (0.4) will be used. This is to be a bit bearish and low the chance of OT2 crashes"
   ]
  },
  {
   "cell_type": "code",
   "execution_count": 17,
   "id": "74ea97b7",
   "metadata": {},
   "outputs": [
    {
     "data": {
      "text/plain": [
       "lysate_aspirate_height_inc        0.4\n",
       "lysate_aspirate_rate              0.3\n",
       "lysate_dispense_rate              0.3\n",
       "substrates_aspirate_height_inc    0.6\n",
       "substrates_aspirate_rate          1.0\n",
       "substrates_dispense_rate          1.0\n",
       "dtype: float64"
      ]
     },
     "execution_count": 17,
     "metadata": {},
     "output_type": "execute_result"
    }
   ],
   "source": [
    "\n",
    "# initialise a list to store the centerpoint values\n",
    "centerpoint_list = []\n",
    "\n",
    "# Also storing the parameter names at the same time.\n",
    "# this is to guard against any random shuffling by python as dictionaries are unordered.\n",
    "parameter_name_list = []\n",
    "\n",
    "\n",
    "\n",
    "for parameter in factors:\n",
    "    \n",
    "    # store the name\n",
    "    parameter_name_list.append(parameter)\n",
    "    \n",
    "    # store the length to make the code clearer\n",
    "    length_of_list = len(factors[parameter][\"parameter_range\"])\n",
    "    \n",
    "    # even number list-length check\n",
    "    # For odd numbers..\n",
    "    if (length_of_list % 2) != 0:\n",
    "        \n",
    "        \n",
    "        \n",
    "        \n",
    "        # get the middle index by dividing the length by 2, adding 0.5 and taking away 1 (for python indexing)\n",
    "        middle_idx = int(length_of_list/2 +0.5)-1\n",
    "        \n",
    "        # look up the value\n",
    "        centerpoint_value = factors[parameter][\"parameter_range\"][middle_idx]\n",
    "        \n",
    "        # append to the list\n",
    "        centerpoint_list.append(centerpoint_value)\n",
    "\n",
    "        \n",
    "        \n",
    "        \n",
    "        \n",
    "    #For even numbers..\n",
    "    elif (length_of_list % 2) == 0:\n",
    "        \n",
    "        \n",
    "        \n",
    "        # get the middle index by dividing the length by 2 and adding 0.5\n",
    "        middle_idx = int(length_of_list/2 +0.5)\n",
    "        \n",
    "        # look up the value\n",
    "        centerpoint_value = factors[parameter][\"parameter_range\"][middle_idx]\n",
    "        \n",
    "        # append to the list\n",
    "        centerpoint_list.append(centerpoint_value)\n",
    "        \n",
    "        \n",
    "    \n",
    "    else:\n",
    "        print(\"Error: length of list is neither odd nor even.\")\n",
    "        \n",
    "        \n",
    "        \n",
    "\n",
    "# generate Pandas Series using both lists\n",
    "centerpoint_series = pd.Series(centerpoint_list, index = parameter_name_list)\n",
    "centerpoint_series"
   ]
  },
  {
   "cell_type": "code",
   "execution_count": 21,
   "id": "26aeffe8",
   "metadata": {},
   "outputs": [
    {
     "name": "stderr",
     "output_type": "stream",
     "text": [
      "/app/src/active_learning/func_central_composite.py:95: FutureWarning: The frame.append method is deprecated and will be removed from pandas in a future version. Use pandas.concat instead.\n",
      "  factor_data = factorial_runs.append(axial_runs)\n",
      "/app/src/active_learning/func_central_composite.py:100: FutureWarning: The frame.append method is deprecated and will be removed from pandas in a future version. Use pandas.concat instead.\n",
      "  factor_data = factor_data.append(center_runs)\n"
     ]
    },
    {
     "data": {
      "text/html": [
       "<div>\n",
       "<style scoped>\n",
       "    .dataframe tbody tr th:only-of-type {\n",
       "        vertical-align: middle;\n",
       "    }\n",
       "\n",
       "    .dataframe tbody tr th {\n",
       "        vertical-align: top;\n",
       "    }\n",
       "\n",
       "    .dataframe thead th {\n",
       "        text-align: right;\n",
       "    }\n",
       "</style>\n",
       "<table border=\"1\" class=\"dataframe\">\n",
       "  <thead>\n",
       "    <tr style=\"text-align: right;\">\n",
       "      <th></th>\n",
       "      <th>X1</th>\n",
       "      <th>X2</th>\n",
       "      <th>X3</th>\n",
       "      <th>X4</th>\n",
       "      <th>X5</th>\n",
       "      <th>X6</th>\n",
       "    </tr>\n",
       "  </thead>\n",
       "  <tbody>\n",
       "    <tr>\n",
       "      <th>0</th>\n",
       "      <td>-1.0</td>\n",
       "      <td>-1.0</td>\n",
       "      <td>-1.0</td>\n",
       "      <td>-1.0</td>\n",
       "      <td>-1.000000</td>\n",
       "      <td>-1.000000</td>\n",
       "    </tr>\n",
       "    <tr>\n",
       "      <th>1</th>\n",
       "      <td>-1.0</td>\n",
       "      <td>-1.0</td>\n",
       "      <td>-1.0</td>\n",
       "      <td>-1.0</td>\n",
       "      <td>-1.000000</td>\n",
       "      <td>1.000000</td>\n",
       "    </tr>\n",
       "    <tr>\n",
       "      <th>2</th>\n",
       "      <td>-1.0</td>\n",
       "      <td>-1.0</td>\n",
       "      <td>-1.0</td>\n",
       "      <td>-1.0</td>\n",
       "      <td>1.000000</td>\n",
       "      <td>-1.000000</td>\n",
       "    </tr>\n",
       "    <tr>\n",
       "      <th>3</th>\n",
       "      <td>-1.0</td>\n",
       "      <td>-1.0</td>\n",
       "      <td>-1.0</td>\n",
       "      <td>-1.0</td>\n",
       "      <td>1.000000</td>\n",
       "      <td>1.000000</td>\n",
       "    </tr>\n",
       "    <tr>\n",
       "      <th>4</th>\n",
       "      <td>-1.0</td>\n",
       "      <td>-1.0</td>\n",
       "      <td>-1.0</td>\n",
       "      <td>1.0</td>\n",
       "      <td>-1.000000</td>\n",
       "      <td>-1.000000</td>\n",
       "    </tr>\n",
       "    <tr>\n",
       "      <th>...</th>\n",
       "      <td>...</td>\n",
       "      <td>...</td>\n",
       "      <td>...</td>\n",
       "      <td>...</td>\n",
       "      <td>...</td>\n",
       "      <td>...</td>\n",
       "    </tr>\n",
       "    <tr>\n",
       "      <th>8</th>\n",
       "      <td>0.0</td>\n",
       "      <td>0.0</td>\n",
       "      <td>0.0</td>\n",
       "      <td>0.0</td>\n",
       "      <td>-2.828427</td>\n",
       "      <td>0.000000</td>\n",
       "    </tr>\n",
       "    <tr>\n",
       "      <th>9</th>\n",
       "      <td>0.0</td>\n",
       "      <td>0.0</td>\n",
       "      <td>0.0</td>\n",
       "      <td>0.0</td>\n",
       "      <td>2.828427</td>\n",
       "      <td>0.000000</td>\n",
       "    </tr>\n",
       "    <tr>\n",
       "      <th>10</th>\n",
       "      <td>0.0</td>\n",
       "      <td>0.0</td>\n",
       "      <td>0.0</td>\n",
       "      <td>0.0</td>\n",
       "      <td>0.000000</td>\n",
       "      <td>-2.828427</td>\n",
       "    </tr>\n",
       "    <tr>\n",
       "      <th>11</th>\n",
       "      <td>0.0</td>\n",
       "      <td>0.0</td>\n",
       "      <td>0.0</td>\n",
       "      <td>0.0</td>\n",
       "      <td>0.000000</td>\n",
       "      <td>2.828427</td>\n",
       "    </tr>\n",
       "    <tr>\n",
       "      <th>0</th>\n",
       "      <td>0.0</td>\n",
       "      <td>0.0</td>\n",
       "      <td>0.0</td>\n",
       "      <td>0.0</td>\n",
       "      <td>0.000000</td>\n",
       "      <td>0.000000</td>\n",
       "    </tr>\n",
       "  </tbody>\n",
       "</table>\n",
       "<p>77 rows × 6 columns</p>\n",
       "</div>"
      ],
      "text/plain": [
       "     X1   X2   X3   X4        X5        X6\n",
       "0  -1.0 -1.0 -1.0 -1.0 -1.000000 -1.000000\n",
       "1  -1.0 -1.0 -1.0 -1.0 -1.000000  1.000000\n",
       "2  -1.0 -1.0 -1.0 -1.0  1.000000 -1.000000\n",
       "3  -1.0 -1.0 -1.0 -1.0  1.000000  1.000000\n",
       "4  -1.0 -1.0 -1.0  1.0 -1.000000 -1.000000\n",
       "..  ...  ...  ...  ...       ...       ...\n",
       "8   0.0  0.0  0.0  0.0 -2.828427  0.000000\n",
       "9   0.0  0.0  0.0  0.0  2.828427  0.000000\n",
       "10  0.0  0.0  0.0  0.0  0.000000 -2.828427\n",
       "11  0.0  0.0  0.0  0.0  0.000000  2.828427\n",
       "0   0.0  0.0  0.0  0.0  0.000000  0.000000\n",
       "\n",
       "[77 rows x 6 columns]"
      ]
     },
     "execution_count": 21,
     "metadata": {},
     "output_type": "execute_result"
    }
   ],
   "source": [
    "from func_central_composite import *\n",
    "central_composite = build_ccd(6, alpha='rotatable', center_points=1)\n",
    "central_composite"
   ]
  },
  {
   "cell_type": "code",
   "execution_count": 22,
   "id": "780d7b54",
   "metadata": {},
   "outputs": [
    {
     "ename": "AttributeError",
     "evalue": "module 'dexpy' has no attribute 'build_simplex_lattice'",
     "output_type": "error",
     "traceback": [
      "\u001b[0;31m---------------------------------------------------------------------------\u001b[0m",
      "\u001b[0;31mAttributeError\u001b[0m                            Traceback (most recent call last)",
      "Cell \u001b[0;32mIn [22], line 1\u001b[0m\n\u001b[0;32m----> 1\u001b[0m dexpy\u001b[38;5;241m.\u001b[39mbuild_simplex_lattice()\n",
      "\u001b[0;31mAttributeError\u001b[0m: module 'dexpy' has no attribute 'build_simplex_lattice'"
     ]
    }
   ],
   "source": [
    "dexpy.build_simplex_lattice()"
   ]
  },
  {
   "cell_type": "markdown",
   "id": "81d16114",
   "metadata": {},
   "source": [
    "# Choosing and generating an experimental design dynamically\n",
    "\n",
    "\n",
    "If we have 6x replicates then we can fit 64 samples on to a plate\n",
    "\n",
    "\n",
    "![plan plan](img/plate_plan.png)\n",
    "\n",
    "Placeholder design : **half factorial**? Important to fit on to one plate.\n",
    "\n",
    "### Factorial run generation formula:\n",
    "\n",
    "Number of runs = 2 ** (number of factors-1)\n",
    "\n",
    "This is the IV on the chart\n",
    "\n",
    "![Doe_resolution_image](img/doe_resolution_table.png)"
   ]
  },
  {
   "cell_type": "code",
   "execution_count": null,
   "id": "bddbebc6",
   "metadata": {},
   "outputs": [],
   "source": [
    "\n",
    "# initialise experimental design\n",
    "experimental_design = dexpy.factorial.build_factorial(number_of_factors, 2**(number_of_factors-1))\n",
    "\n",
    "# label columns with factor names\n",
    "experimental_design.columns = names_of_factors\n",
    "\n",
    "experimental_design"
   ]
  },
  {
   "cell_type": "markdown",
   "id": "a28cc7ce",
   "metadata": {},
   "source": [
    "# Converting encoding back to real values\n",
    "\n",
    "I'll do this simply by simply replacing \"1\" with max value and \"-1\" with minimum."
   ]
  },
  {
   "cell_type": "code",
   "execution_count": null,
   "id": "4c9e684e",
   "metadata": {},
   "outputs": [],
   "source": [
    "# iterate over the df columns\n",
    "for parameter in names_of_factors:\n",
    "\n",
    "    column = experimental_design[parameter]\n",
    "    \n",
    "    # then iterate over the series generated\n",
    "    \n",
    "    for index, value in column.items():\n",
    "        \n",
    "        \n",
    "        if value == 1:\n",
    "            \n",
    "            # replace\n",
    "            experimental_design.loc[index, parameter] = factors[parameter][\"max\"]\n",
    "            \n",
    "        elif value == -1:\n",
    "            # replace\n",
    "            experimental_design.loc[index, parameter] = factors[parameter][\"min\"]\n",
    "            \n",
    "        else:\n",
    "            print(\"Error: Encoded value is neither 1 nor -1\")\n",
    "\n",
    "experimental_design"
   ]
  },
  {
   "cell_type": "markdown",
   "id": "f7bf338b",
   "metadata": {},
   "source": [
    "# Appending the centerpoints as row"
   ]
  },
  {
   "cell_type": "code",
   "execution_count": null,
   "id": "cd7763f1",
   "metadata": {},
   "outputs": [],
   "source": [
    "# pandas concat is not 'columns aware' so have to use this weird centerpoint_series.to_frame(1).T thing to orientate it properly\n",
    "experimental_design = pd.concat([experimental_design, centerpoint_series.to_frame(1).T], axis=0, ignore_index = True)\n",
    "experimental_design"
   ]
  },
  {
   "cell_type": "markdown",
   "id": "d3c64ff1",
   "metadata": {},
   "source": [
    "# Aliasing\n",
    "\n",
    "We want to remove rows that are duplicated and columns with are repeated to ensure our experiment is efficent as possible"
   ]
  },
  {
   "cell_type": "code",
   "execution_count": null,
   "id": "2f98eb32",
   "metadata": {},
   "outputs": [],
   "source": [
    "#rows\n",
    "# creates a bool series of True/False row-is-duplicate and then filters the DF by dropping those rows\n",
    "experimental_design = experimental_design[~experimental_design.duplicated()]\n",
    "\n",
    "#columns\n",
    "# Transpose the df to allow the same simple function to be used row-wise and then transpose back\n",
    "experimental_design = experimental_design.T\n",
    "experimental_design = experimental_design[~experimental_design.duplicated()]\n",
    "experimental_design = experimental_design.T\n",
    "experimental_design"
   ]
  },
  {
   "cell_type": "markdown",
   "id": "6d1e7cc3",
   "metadata": {},
   "source": [
    "# Save to disk\n",
    "\n",
    "The Experimental Design is now finished and will be exported as a CSV for a downstream parser to put the values into the _pipetting_settings.json file."
   ]
  },
  {
   "cell_type": "code",
   "execution_count": null,
   "id": "0e7ccce7",
   "metadata": {},
   "outputs": [],
   "source": [
    "#change directory\n",
    "os.chdir(experiment_file_path)\n",
    "\n",
    "#save using the experimental prefix\n",
    "experimental_design.to_csv(prefix+\"_experimental_design.csv\", header = True)"
   ]
  },
  {
   "cell_type": "code",
   "execution_count": null,
   "id": "01ba217b",
   "metadata": {},
   "outputs": [],
   "source": [
    "\n"
   ]
  }
 ],
 "metadata": {
  "kernelspec": {
   "display_name": "Python 3 (ipykernel)",
   "language": "python",
   "name": "python3"
  },
  "language_info": {
   "codemirror_mode": {
    "name": "ipython",
    "version": 3
   },
   "file_extension": ".py",
   "mimetype": "text/x-python",
   "name": "python",
   "nbconvert_exporter": "python",
   "pygments_lexer": "ipython3",
   "version": "3.10.6"
  }
 },
 "nbformat": 4,
 "nbformat_minor": 5
}
