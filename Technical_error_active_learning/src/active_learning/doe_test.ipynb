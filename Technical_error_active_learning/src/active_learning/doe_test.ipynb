{
 "cells": [
  {
   "cell_type": "markdown",
   "id": "73b22743",
   "metadata": {},
   "source": [
    "# Notes\n",
    "\n",
    "Hey Michael, I've gone for Dexpy as the py package for DoE as pyDOE requires a build from source.\n",
    "\n",
    "Dexpy doesn't appear to have all the functionality we want but maybe that's a good thing as since we're both kinda new to DOE, maybe doing a bit more \"from the bottom up\" will help us learn.\n",
    "\n",
    "I'm working on a simplified experiment design as placeholder.\n",
    "\n",
    "In the end it is likely that we will use a screening-design to test as many factors as possible to identify the most influential and then conduct a response-surface-design to conduct the actual optimisation.\n",
    "\n",
    "### Dexpy Docs:\n",
    "https://statease.github.io/dexpy/example-coffee.html"
   ]
  },
  {
   "cell_type": "code",
   "execution_count": 1,
   "id": "cae5b3a6",
   "metadata": {},
   "outputs": [],
   "source": [
    "import dexpy.factorial\n",
    "import dexpy.power\n",
    "import pandas as pd\n",
    "import numpy as np"
   ]
  },
  {
   "cell_type": "code",
   "execution_count": 2,
   "id": "97edb157",
   "metadata": {},
   "outputs": [],
   "source": [
    "# Our current parameters\n",
    "original_factors = {\n",
    "    \"lysate_aspirate_height_inc\" : 0.4,\n",
    "    \"lysate_aspirate_rate\" : 0.2,\n",
    "    \"lysate_dispense_rate\" : 0.1,\n",
    "    \n",
    "    \"substrates_aspirate_height_inc\" : 0.7,\n",
    "    \"substrates_aspirate_rate\" : 1,\n",
    "    \"substrates_dispense_rate\" : 1\n",
    "    }"
   ]
  },
  {
   "cell_type": "markdown",
   "id": "7ee1df9d",
   "metadata": {},
   "source": [
    "I've taken our ourrent parameters and straddled them to create a range. For simplicity every paramet will have a range of 5 possible values generated with 0.1 increments. e.g. \"lysate_aspirate_height_inc\" : \"max\": 0.6 has a range of 0.2,0.3,0.4,0.5,0.6"
   ]
  },
  {
   "cell_type": "code",
   "execution_count": 4,
   "id": "3eead3dd",
   "metadata": {},
   "outputs": [],
   "source": [
    "# Maximum values \n",
    "factors = {\n",
    "    \"lysate_aspirate_height_inc\" : {\"max\": 0.6},\n",
    "    \"lysate_aspirate_rate\" : {\"max\": 0.4},\n",
    "    \"lysate_dispense_rate\" : {\"max\": 0.5},\n",
    "    \n",
    "    \"substrates_aspirate_height_inc\" : {\"max\": 0.8},\n",
    "    \"substrates_aspirate_rate\" : {\"max\": 1.2},\n",
    "    \"substrates_dispense_rate\" : {\"max\": 1.2}\n",
    "    }"
   ]
  },
  {
   "cell_type": "code",
   "execution_count": 17,
   "id": "655a5d27",
   "metadata": {},
   "outputs": [
    {
     "name": "stdout",
     "output_type": "stream",
     "text": [
      "[0.1, 0.2, 0.3, 0.4, 0.5, 0.6]\n",
      "[0.1, 0.2, 0.3, 0.4]\n",
      "[0.1, 0.2, 0.3, 0.4, 0.5]\n",
      "[0.3, 0.4, 0.5, 0.6, 0.7, 0.8]\n",
      "[0.7, 0.8, 0.9, 1.0, 1.1, 1.2, 1.3]\n",
      "[0.7, 0.8, 0.9, 1.0, 1.1, 1.2, 1.3]\n"
     ]
    },
    {
     "data": {
      "text/plain": [
       "{'lysate_aspirate_height_inc': {'max': 0.6,\n",
       "  'range': [0.1, 0.2, 0.3, 0.4, 0.5, 0.6]},\n",
       " 'lysate_aspirate_rate': {'max': 0.4, 'range': [0.1, 0.2, 0.3, 0.4]},\n",
       " 'lysate_dispense_rate': {'max': 0.5, 'range': [0.1, 0.2, 0.3, 0.4, 0.5]},\n",
       " 'substrates_aspirate_height_inc': {'max': 0.8,\n",
       "  'range': [0.3, 0.4, 0.5, 0.6, 0.7, 0.8]},\n",
       " 'substrates_aspirate_rate': {'max': 1.2,\n",
       "  'range': [0.7, 0.8, 0.9, 1.0, 1.1, 1.2, 1.3]},\n",
       " 'substrates_dispense_rate': {'max': 1.2,\n",
       "  'range': [0.7, 0.8, 0.9, 1.0, 1.1, 1.2, 1.3]}}"
      ]
     },
     "execution_count": 17,
     "metadata": {},
     "output_type": "execute_result"
    }
   ],
   "source": [
    "def parameter_range_generator(maximum_value, increment, length_of_range):\n",
    "    \n",
    "    # generate a python list of floats by making a numpy array and then converting.\n",
    "    parameter_range = list(np.arange(maximum_value - (length_of_range * increment) , maximum_value + increment, increment))\n",
    "    \n",
    "    # round values to 1 decimal place  to ensure exact floats\n",
    "    parameter_range = [round(value, 1) for value in parameter_range]\n",
    "    \n",
    "    # drop negative values and zero from the range\n",
    "    parameter_range = [value for value in parameter_range if value > 0]\n",
    "    \n",
    "    return parameter_range\n",
    "\n",
    "\n",
    "# Use parameter_range_generator to append the parameter_range as a nested value of each parameter of the factor dictionary.\n",
    "for parameter in factors:\n",
    "    factors[parameter][\"parameter_range\"] = parameter_range_generator(factors[parameter][\"max\"], 0.1, 5)\n",
    "    \n",
    "factors"
   ]
  },
  {
   "cell_type": "markdown",
   "id": "96745b56",
   "metadata": {},
   "source": [
    "# Factor Metadata\n",
    "Simply gets some metadata about the factors"
   ]
  },
  {
   "cell_type": "code",
   "execution_count": null,
   "id": "2240ae0e",
   "metadata": {},
   "outputs": [],
   "source": [
    "# number of factors as an integer\n",
    "number_of_factors = len(factors)\n",
    "\n",
    "# a python list of the names of the factors by getting the dictionary keys\n",
    "names_of_factors = list(factors.keys())"
   ]
  },
  {
   "cell_type": "markdown",
   "id": "072d7474",
   "metadata": {},
   "source": [
    "# Choosing and generating an experimental design dynamically\n",
    "\n",
    "Placeholder: full factorial\n",
    "\n",
    "### Full factorial run generation formula:\n",
    "\n",
    "Number of runs = 2** number of factors\n",
    "\n",
    "![Doe_resolution_image](img/doe_resolution_table.png)"
   ]
  },
  {
   "cell_type": "code",
   "execution_count": null,
   "id": "cd3aa79b",
   "metadata": {},
   "outputs": [],
   "source": [
    "\n",
    "# initialise experimental design\n",
    "experimental_design = dexpy.factorial.build_factorial(number_of_factors, 2**number_of_factors)\n",
    "\n",
    "# label columns with factor names\n",
    "experimental_design.columns = names_of_factors"
   ]
  },
  {
   "cell_type": "code",
   "execution_count": null,
   "id": "53f217c1",
   "metadata": {},
   "outputs": [],
   "source": [
    "experimental_design"
   ]
  },
  {
   "cell_type": "markdown",
   "id": "703e4198",
   "metadata": {},
   "source": [
    "# Appending Centerpoints"
   ]
  },
  {
   "cell_type": "code",
   "execution_count": null,
   "id": "1f96bdd6",
   "metadata": {},
   "outputs": [],
   "source": [
    "###"
   ]
  },
  {
   "cell_type": "markdown",
   "id": "263f09de",
   "metadata": {},
   "source": [
    "# Aliasing\n",
    "\n",
    "We want to remove rows that are duplicated and columns with are repeated to ensure our experiment is efficent as possible"
   ]
  },
  {
   "cell_type": "code",
   "execution_count": null,
   "id": "41f5e1f9",
   "metadata": {},
   "outputs": [],
   "source": [
    "#rows\n",
    "# creates a bool series of True/False row-is-duplicate and then filters the DF by dropping those rows\n",
    "experimental_design = experimental_design[~experimental_design.duplicated()]\n",
    "\n",
    "#columns\n",
    "# Transpose the df to allow the same simple function to be used row-wise and then transpose back\n",
    "experimental_design = experimental_design.T\n",
    "experimental_design = experimental_design[~experimental_design.duplicated()]\n",
    "experimental_design = experimental_design.T\n",
    "experimental_design"
   ]
  },
  {
   "cell_type": "code",
   "execution_count": null,
   "id": "0ffc9195",
   "metadata": {},
   "outputs": [],
   "source": []
  }
 ],
 "metadata": {
  "kernelspec": {
   "display_name": "Python 3 (ipykernel)",
   "language": "python",
   "name": "python3"
  },
  "language_info": {
   "codemirror_mode": {
    "name": "ipython",
    "version": 3
   },
   "file_extension": ".py",
   "mimetype": "text/x-python",
   "name": "python",
   "nbconvert_exporter": "python",
   "pygments_lexer": "ipython3",
   "version": "3.10.6"
  }
 },
 "nbformat": 4,
 "nbformat_minor": 5
}
