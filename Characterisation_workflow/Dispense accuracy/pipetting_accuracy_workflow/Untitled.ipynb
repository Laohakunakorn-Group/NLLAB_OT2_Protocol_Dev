{
 "cells": [
  {
   "cell_type": "code",
   "execution_count": 1,
   "id": "bc1c54d7",
   "metadata": {},
   "outputs": [],
   "source": [
    "import numpy as np"
   ]
  },
  {
   "cell_type": "code",
   "execution_count": null,
   "id": "8fa8316d",
   "metadata": {},
   "outputs": [],
   "source": []
  },
  {
   "cell_type": "code",
   "execution_count": 2,
   "id": "c22f1a2c",
   "metadata": {},
   "outputs": [],
   "source": [
    "stock_30 = np.array([[0, 80, 90, 40], [0, 80, 90, 40], [0, 80, 90, 40], [0, 80, 90, 40], [0, 80, 90, 40], [0, 80, 90, 40]])\n",
    "\n",
    "newarr = stock_30.reshape(-1)"
   ]
  },
  {
   "cell_type": "code",
   "execution_count": 3,
   "id": "ebaf48ca",
   "metadata": {},
   "outputs": [
    {
     "data": {
      "text/plain": [
       "array([ 0, 80, 90, 40,  0, 80, 90, 40,  0, 80, 90, 40,  0, 80, 90, 40,  0,\n",
       "       80, 90, 40,  0, 80, 90, 40])"
      ]
     },
     "execution_count": 3,
     "metadata": {},
     "output_type": "execute_result"
    }
   ],
   "source": [
    "newarr"
   ]
  },
  {
   "cell_type": "code",
   "execution_count": null,
   "id": "3b0f601c",
   "metadata": {},
   "outputs": [],
   "source": []
  }
 ],
 "metadata": {
  "kernelspec": {
   "display_name": "Python 3 (ipykernel)",
   "language": "python",
   "name": "python3"
  },
  "language_info": {
   "codemirror_mode": {
    "name": "ipython",
    "version": 3
   },
   "file_extension": ".py",
   "mimetype": "text/x-python",
   "name": "python",
   "nbconvert_exporter": "python",
   "pygments_lexer": "ipython3",
   "version": "3.8.10"
  }
 },
 "nbformat": 4,
 "nbformat_minor": 5
}
