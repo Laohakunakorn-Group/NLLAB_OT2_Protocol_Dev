{
 "cells": [
  {
   "cell_type": "code",
   "execution_count": 2,
   "id": "89710590",
   "metadata": {},
   "outputs": [],
   "source": [
    "import pandas as pd\n",
    "import matplotlib.pyplot as plt\n",
    "import seaborn as sns\n",
    "\n",
    "df = pd.read_csv(\"pipetting_accuracy_dataset.csv\")"
   ]
  },
  {
   "cell_type": "code",
   "execution_count": 9,
   "id": "e03622c1",
   "metadata": {},
   "outputs": [
    {
     "data": {
      "text/html": [
       "<div>\n",
       "<style scoped>\n",
       "    .dataframe tbody tr th:only-of-type {\n",
       "        vertical-align: middle;\n",
       "    }\n",
       "\n",
       "    .dataframe tbody tr th {\n",
       "        vertical-align: top;\n",
       "    }\n",
       "\n",
       "    .dataframe thead th {\n",
       "        text-align: right;\n",
       "    }\n",
       "</style>\n",
       "<table border=\"1\" class=\"dataframe\">\n",
       "  <thead>\n",
       "    <tr style=\"text-align: right;\">\n",
       "      <th></th>\n",
       "      <th>Tube</th>\n",
       "      <th>Before</th>\n",
       "      <th>After</th>\n",
       "      <th>Run#</th>\n",
       "      <th>Liquid</th>\n",
       "      <th>Pipette</th>\n",
       "      <th>Volume</th>\n",
       "      <th>Aspirate Speed</th>\n",
       "      <th>Dispense Speed</th>\n",
       "      <th>Delay After</th>\n",
       "      <th>Asp Touch Tip</th>\n",
       "      <th>dispense Touch Tip</th>\n",
       "      <th>Header Volume</th>\n",
       "      <th>Mass (g)</th>\n",
       "    </tr>\n",
       "  </thead>\n",
       "  <tbody>\n",
       "    <tr>\n",
       "      <th>35</th>\n",
       "      <td>A1</td>\n",
       "      <td>1.0870</td>\n",
       "      <td>1.1704</td>\n",
       "      <td>6</td>\n",
       "      <td>Stock-30</td>\n",
       "      <td>p300</td>\n",
       "      <td>80</td>\n",
       "      <td>0.2</td>\n",
       "      <td>0.1</td>\n",
       "      <td>2</td>\n",
       "      <td>TRUE</td>\n",
       "      <td>TRUE</td>\n",
       "      <td>20</td>\n",
       "      <td>0.0834</td>\n",
       "    </tr>\n",
       "    <tr>\n",
       "      <th>36</th>\n",
       "      <td>A2</td>\n",
       "      <td>1.0978</td>\n",
       "      <td>1.1823</td>\n",
       "      <td>6</td>\n",
       "      <td>Stock-30</td>\n",
       "      <td>p300</td>\n",
       "      <td>80</td>\n",
       "      <td>0.2</td>\n",
       "      <td>0.1</td>\n",
       "      <td>2</td>\n",
       "      <td>TRUE</td>\n",
       "      <td>TRUE</td>\n",
       "      <td>20</td>\n",
       "      <td>0.0845</td>\n",
       "    </tr>\n",
       "    <tr>\n",
       "      <th>37</th>\n",
       "      <td>A3</td>\n",
       "      <td>1.0940</td>\n",
       "      <td>1.1770</td>\n",
       "      <td>6</td>\n",
       "      <td>Stock-30</td>\n",
       "      <td>p300</td>\n",
       "      <td>80</td>\n",
       "      <td>0.2</td>\n",
       "      <td>0.1</td>\n",
       "      <td>2</td>\n",
       "      <td>TRUE</td>\n",
       "      <td>TRUE</td>\n",
       "      <td>20</td>\n",
       "      <td>0.0830</td>\n",
       "    </tr>\n",
       "    <tr>\n",
       "      <th>38</th>\n",
       "      <td>A4</td>\n",
       "      <td>1.0976</td>\n",
       "      <td>1.1816</td>\n",
       "      <td>6</td>\n",
       "      <td>Stock-30</td>\n",
       "      <td>p300</td>\n",
       "      <td>80</td>\n",
       "      <td>0.2</td>\n",
       "      <td>0.1</td>\n",
       "      <td>2</td>\n",
       "      <td>TRUE</td>\n",
       "      <td>TRUE</td>\n",
       "      <td>20</td>\n",
       "      <td>0.0840</td>\n",
       "    </tr>\n",
       "    <tr>\n",
       "      <th>39</th>\n",
       "      <td>A5</td>\n",
       "      <td>1.0904</td>\n",
       "      <td>1.1760</td>\n",
       "      <td>6</td>\n",
       "      <td>Stock-30</td>\n",
       "      <td>p300</td>\n",
       "      <td>80</td>\n",
       "      <td>0.2</td>\n",
       "      <td>0.1</td>\n",
       "      <td>2</td>\n",
       "      <td>TRUE</td>\n",
       "      <td>TRUE</td>\n",
       "      <td>20</td>\n",
       "      <td>0.0856</td>\n",
       "    </tr>\n",
       "  </tbody>\n",
       "</table>\n",
       "</div>"
      ],
      "text/plain": [
       "   Tube  Before   After Run#    Liquid Pipette  Volume Aspirate Speed  \\\n",
       "35   A1  1.0870  1.1704    6  Stock-30    p300      80            0.2   \n",
       "36   A2  1.0978  1.1823    6  Stock-30    p300      80            0.2   \n",
       "37   A3  1.0940  1.1770    6  Stock-30    p300      80            0.2   \n",
       "38   A4  1.0976  1.1816    6  Stock-30    p300      80            0.2   \n",
       "39   A5  1.0904  1.1760    6  Stock-30    p300      80            0.2   \n",
       "\n",
       "   Dispense Speed Delay After Asp Touch Tip dispense Touch Tip Header Volume  \\\n",
       "35            0.1           2          TRUE               TRUE            20   \n",
       "36            0.1           2          TRUE               TRUE            20   \n",
       "37            0.1           2          TRUE               TRUE            20   \n",
       "38            0.1           2          TRUE               TRUE            20   \n",
       "39            0.1           2          TRUE               TRUE            20   \n",
       "\n",
       "    Mass (g)  \n",
       "35    0.0834  \n",
       "36    0.0845  \n",
       "37    0.0830  \n",
       "38    0.0840  \n",
       "39    0.0856  "
      ]
     },
     "execution_count": 9,
     "metadata": {},
     "output_type": "execute_result"
    }
   ],
   "source": [
    "df['Mass (g)'] = df['After'] - df['Before']\n",
    "df[df['Run#'] == '6']\n"
   ]
  },
  {
   "cell_type": "code",
   "execution_count": 4,
   "id": "ecb8d68c",
   "metadata": {},
   "outputs": [
    {
     "data": {
      "image/png": "[encoded data removed]",
      "text/plain": [
       "<Figure size 432x288 with 1 Axes>"
      ]
     },
     "metadata": {
      "needs_background": "light"
     },
     "output_type": "display_data"
    }
   ],
   "source": [
    "df_h20 = df[df['Liquid'] == 'H20']\n",
    "df_stock_30 = df[df['Liquid'] == 'Stock-30']\n",
    "df_stock_30 = pd.concat([df_h20, df_stock_30])\n",
    "\n",
    "ax = sns.scatterplot(data=df_stock_30, x='Run#', y='Mass (g)', hue='Run#', palette=\"flare\",  s=50)\n",
    "sns.barplot(data=df_stock_30, x='Run#', y='Mass (g)', ci='sd', capsize = 0.1, palette=\"crest\", alpha=.7)\n",
    "plt.ylim(0.07,0.09)\n",
    "\n",
    "plt.yticks([0.075, 0.08, 0.085, 0.09, 0.095])\n",
    "plt.xticks(rotation=45)\n",
    "ax.get_legend().remove()\n",
    "plt.title(\"Mass of OT2 p300 dispensing 80ul of Stock-30\")\n",
    "sns.despine()\n"
   ]
  },
  {
   "cell_type": "markdown",
   "id": "374ef71c",
   "metadata": {},
   "source": [
    "# Notes\n",
    "\n",
    "Run 1: \n",
    "\n",
    "Run 5: Repeat of Run 2 but with serious tip dunk\n",
    "\n",
    "Run 6: Repeat of Run 2 but height adjusted to minimise tip dunk. Oh, and fresh tips\n",
    "\n",
    "Biggest influence, tip submersion."
   ]
  },
  {
   "cell_type": "code",
   "execution_count": 5,
   "id": "87f9f868",
   "metadata": {
    "scrolled": true
   },
   "outputs": [
    {
     "data": {
      "image/png": "[encoded data removed]",
      "text/plain": [
       "<Figure size 432x288 with 1 Axes>"
      ]
     },
     "metadata": {
      "needs_background": "light"
     },
     "output_type": "display_data"
    }
   ],
   "source": [
    "df_bradford = df[df['Liquid'] == 'Bradford Reagent']\n",
    "\n",
    "ax = sns.scatterplot(data=df_bradford, x='Run#', y='Mass (g)', hue='Run#', palette=\"flare\",  s=100)\n",
    "ax = sns.barplot(data=df_bradford, x='Run#', y='Mass (g)', ci='sd', capsize = 0.01, alpha=.6)\n",
    "\n",
    "plt.ylim(0.3,0.33)\n",
    "\n",
    "plt.yticks([0.300, 0.310, 0.32, 0.330])\n",
    "plt.xticks(rotation=45)\n",
    "\n",
    "ax.get_legend().remove()\n",
    "\n",
    "\n",
    "plt.title(\"Mass of OT2 p300 dispensing 300ul of Bradford\")\n",
    "sns.despine()\n"
   ]
  },
  {
   "cell_type": "code",
   "execution_count": 7,
   "id": "2a91eacf",
   "metadata": {},
   "outputs": [
    {
     "data": {
      "image/png": "[encoded data removed]",
      "text/plain": [
       "<Figure size 432x288 with 1 Axes>"
      ]
     },
     "metadata": {
      "needs_background": "light"
     },
     "output_type": "display_data"
    }
   ],
   "source": [
    "ax = sns.scatterplot(data=df_bradford, x='Run#', y='Mass (g)', hue='Run#', palette=\"flare\",  s=100)\n",
    "plt.ylim(0.3,0.33)\n",
    "plt.yticks([0.300, 0.310, 0.32, 0.330])\n",
    "\n",
    "ax.get_legend().remove()\n",
    "\n",
    "sns.despine()\n"
   ]
  },
  {
   "cell_type": "markdown",
   "id": "0828b54e",
   "metadata": {},
   "source": [
    "# Notes\n",
    "\n",
    "Run 7: dispense with tip in volume\n",
    "Run 8: Dispense with tip far above.\n",
    "Run 9: Dispense with tip touching\n"
   ]
  },
  {
   "cell_type": "code",
   "execution_count": null,
   "id": "d26de5aa",
   "metadata": {},
   "outputs": [],
   "source": []
  }
 ],
 "metadata": {
  "kernelspec": {
   "display_name": "Python 3 (ipykernel)",
   "language": "python",
   "name": "python3"
  },
  "language_info": {
   "codemirror_mode": {
    "name": "ipython",
    "version": 3
   },
   "file_extension": ".py",
   "mimetype": "text/x-python",
   "name": "python",
   "nbconvert_exporter": "python",
   "pygments_lexer": "ipython3",
   "version": "3.10.4"
  }
 },
 "nbformat": 4,
 "nbformat_minor": 5
}
