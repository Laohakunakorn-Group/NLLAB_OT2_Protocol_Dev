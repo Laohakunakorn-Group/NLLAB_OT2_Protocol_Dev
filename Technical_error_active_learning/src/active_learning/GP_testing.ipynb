{
 "cells": [
  {
   "cell_type": "markdown",
   "metadata": {},
   "source": [
    "# Intro\n",
    "\n",
    "I just mess around with GPs in this script\n",
    "\n"
   ]
  },
  {
   "cell_type": "code",
   "execution_count": 1,
   "metadata": {
    "tags": []
   },
   "outputs": [
    {
     "name": "stderr",
     "output_type": "stream",
     "text": [
      "WARNING (theano.tensor.blas): Using NumPy C-API based implementation for BLAS functions.\n"
     ]
    },
    {
     "name": "stdout",
     "output_type": "stream",
     "text": [
      "Running on PyMC3 v3.11.5\n"
     ]
    }
   ],
   "source": [
    "import pandas as pd\n",
    "import numpy as np\n",
    "from scipy.stats import norm\n",
    "import xarray as xr\n",
    "\n",
    "import math\n",
    "import os, sys, shutil\n",
    "import json\n",
    "\n",
    "import matplotlib.pyplot as plt\n",
    "%matplotlib inline\n",
    "\n",
    "import seaborn as sns\n",
    "import arviz as az\n",
    "\n",
    "import pymc3 as pm\n",
    "from pymc3 import HalfCauchy, Model, Normal, glm, plot_posterior_predictive_glm, sample\n",
    "\n",
    "print(f\"Running on PyMC3 v{pm.__version__}\")"
   ]
  },
  {
   "cell_type": "markdown",
   "metadata": {},
   "source": [
    "# Defining some functions"
   ]
  },
  {
   "cell_type": "code",
   "execution_count": 2,
   "metadata": {},
   "outputs": [],
   "source": [
    "\n",
    "\n",
    "def print_all_df(df):\n",
    "    \"\"\"\n",
    "    This function simply prints an entire pandas dataframe by changing the global pandas settings,\n",
    "    printing and then reverting the settings.\n",
    "    \"\"\"\n",
    "    # Permanently changes the pandas settings\n",
    "    pd.set_option('display.max_rows', None)\n",
    "    pd.set_option('display.max_columns', None)\n",
    "    pd.set_option('display.width', None)\n",
    "    pd.set_option('display.max_colwidth', -1)\n",
    "    \n",
    "    # All dataframes hereafter reflect these changes.\n",
    "    display(df)\n",
    "    \n",
    "    print('**RESET_OPTIONS**')\n",
    "    \n",
    "    # Resets the options\n",
    "    pd.reset_option('all')\n",
    "    \n",
    "\n"
   ]
  },
  {
   "cell_type": "markdown",
   "metadata": {},
   "source": [
    "# Import tidy master dataset"
   ]
  },
  {
   "cell_type": "code",
   "execution_count": 3,
   "metadata": {},
   "outputs": [
    {
     "data": {
      "text/html": [
       "<div>\n",
       "<style scoped>\n",
       "    .dataframe tbody tr th:only-of-type {\n",
       "        vertical-align: middle;\n",
       "    }\n",
       "\n",
       "    .dataframe tbody tr th {\n",
       "        vertical-align: top;\n",
       "    }\n",
       "\n",
       "    .dataframe thead th {\n",
       "        text-align: right;\n",
       "    }\n",
       "</style>\n",
       "<table border=\"1\" class=\"dataframe\">\n",
       "  <thead>\n",
       "    <tr style=\"text-align: right;\">\n",
       "      <th></th>\n",
       "      <th>Well</th>\n",
       "      <th>Sample ID</th>\n",
       "      <th>Time (Minutes)</th>\n",
       "      <th>RFUs</th>\n",
       "      <th>Gain Setting</th>\n",
       "      <th>Chromatic Settings</th>\n",
       "      <th>Expression Product</th>\n",
       "      <th>Amplicon DNA Template</th>\n",
       "      <th>Energy Solution</th>\n",
       "      <th>Reaction Type</th>\n",
       "      <th>...</th>\n",
       "      <th>lysate_aspirate_height_inc</th>\n",
       "      <th>substrates_aspirate_height_init</th>\n",
       "      <th>substrates_aspirate_height_inc</th>\n",
       "      <th>wax_dispense_volume</th>\n",
       "      <th>wax_dispense_height</th>\n",
       "      <th>wax_new_tip</th>\n",
       "      <th>wax_touch_tip</th>\n",
       "      <th>wax_air_gap</th>\n",
       "      <th>wax_disposal_volume</th>\n",
       "      <th>Assay Date</th>\n",
       "    </tr>\n",
       "  </thead>\n",
       "  <tbody>\n",
       "    <tr>\n",
       "      <th>0</th>\n",
       "      <td>B12</td>\n",
       "      <td>Sample X1</td>\n",
       "      <td>0</td>\n",
       "      <td>3323</td>\n",
       "      <td>1500</td>\n",
       "      <td>485_520_2</td>\n",
       "      <td>GFP</td>\n",
       "      <td>s70_deGFP_MGA</td>\n",
       "      <td>Michael_ES_001</td>\n",
       "      <td>TXTL</td>\n",
       "      <td>...</td>\n",
       "      <td>0.4</td>\n",
       "      <td>9.0</td>\n",
       "      <td>0.4</td>\n",
       "      <td>35</td>\n",
       "      <td>5</td>\n",
       "      <td>never</td>\n",
       "      <td>True</td>\n",
       "      <td>20</td>\n",
       "      <td>30</td>\n",
       "      <td>2022-01-06</td>\n",
       "    </tr>\n",
       "    <tr>\n",
       "      <th>1</th>\n",
       "      <td>B13</td>\n",
       "      <td>Sample X2</td>\n",
       "      <td>0</td>\n",
       "      <td>3397</td>\n",
       "      <td>1500</td>\n",
       "      <td>485_520_2</td>\n",
       "      <td>GFP</td>\n",
       "      <td>s70_deGFP_MGA</td>\n",
       "      <td>Michael_ES_001</td>\n",
       "      <td>TXTL</td>\n",
       "      <td>...</td>\n",
       "      <td>0.4</td>\n",
       "      <td>9.0</td>\n",
       "      <td>0.4</td>\n",
       "      <td>35</td>\n",
       "      <td>5</td>\n",
       "      <td>never</td>\n",
       "      <td>True</td>\n",
       "      <td>20</td>\n",
       "      <td>30</td>\n",
       "      <td>2022-01-06</td>\n",
       "    </tr>\n",
       "    <tr>\n",
       "      <th>2</th>\n",
       "      <td>B14</td>\n",
       "      <td>Sample X3</td>\n",
       "      <td>0</td>\n",
       "      <td>3221</td>\n",
       "      <td>1500</td>\n",
       "      <td>485_520_2</td>\n",
       "      <td>GFP</td>\n",
       "      <td>s70_deGFP_MGA</td>\n",
       "      <td>Michael_ES_001</td>\n",
       "      <td>TXTL</td>\n",
       "      <td>...</td>\n",
       "      <td>0.4</td>\n",
       "      <td>9.0</td>\n",
       "      <td>0.4</td>\n",
       "      <td>35</td>\n",
       "      <td>5</td>\n",
       "      <td>never</td>\n",
       "      <td>True</td>\n",
       "      <td>20</td>\n",
       "      <td>30</td>\n",
       "      <td>2022-01-06</td>\n",
       "    </tr>\n",
       "    <tr>\n",
       "      <th>3</th>\n",
       "      <td>B15</td>\n",
       "      <td>Sample X4</td>\n",
       "      <td>0</td>\n",
       "      <td>3233</td>\n",
       "      <td>1500</td>\n",
       "      <td>485_520_2</td>\n",
       "      <td>GFP</td>\n",
       "      <td>s70_deGFP_MGA</td>\n",
       "      <td>Michael_ES_001</td>\n",
       "      <td>TXTL</td>\n",
       "      <td>...</td>\n",
       "      <td>0.4</td>\n",
       "      <td>9.0</td>\n",
       "      <td>0.4</td>\n",
       "      <td>35</td>\n",
       "      <td>5</td>\n",
       "      <td>never</td>\n",
       "      <td>True</td>\n",
       "      <td>20</td>\n",
       "      <td>30</td>\n",
       "      <td>2022-01-06</td>\n",
       "    </tr>\n",
       "    <tr>\n",
       "      <th>4</th>\n",
       "      <td>B16</td>\n",
       "      <td>Sample X5</td>\n",
       "      <td>0</td>\n",
       "      <td>3220</td>\n",
       "      <td>1500</td>\n",
       "      <td>485_520_2</td>\n",
       "      <td>GFP</td>\n",
       "      <td>s70_deGFP_MGA</td>\n",
       "      <td>Michael_ES_001</td>\n",
       "      <td>TXTL</td>\n",
       "      <td>...</td>\n",
       "      <td>0.4</td>\n",
       "      <td>9.0</td>\n",
       "      <td>0.4</td>\n",
       "      <td>35</td>\n",
       "      <td>5</td>\n",
       "      <td>never</td>\n",
       "      <td>True</td>\n",
       "      <td>20</td>\n",
       "      <td>30</td>\n",
       "      <td>2022-01-06</td>\n",
       "    </tr>\n",
       "    <tr>\n",
       "      <th>...</th>\n",
       "      <td>...</td>\n",
       "      <td>...</td>\n",
       "      <td>...</td>\n",
       "      <td>...</td>\n",
       "      <td>...</td>\n",
       "      <td>...</td>\n",
       "      <td>...</td>\n",
       "      <td>...</td>\n",
       "      <td>...</td>\n",
       "      <td>...</td>\n",
       "      <td>...</td>\n",
       "      <td>...</td>\n",
       "      <td>...</td>\n",
       "      <td>...</td>\n",
       "      <td>...</td>\n",
       "      <td>...</td>\n",
       "      <td>...</td>\n",
       "      <td>...</td>\n",
       "      <td>...</td>\n",
       "      <td>...</td>\n",
       "      <td>...</td>\n",
       "    </tr>\n",
       "    <tr>\n",
       "      <th>13715</th>\n",
       "      <td>J13</td>\n",
       "      <td>Sample X6</td>\n",
       "      <td>718</td>\n",
       "      <td>148</td>\n",
       "      <td>800</td>\n",
       "      <td>485_520</td>\n",
       "      <td>GFP</td>\n",
       "      <td>s70_deGFP_MGA</td>\n",
       "      <td>Michael_ES_001</td>\n",
       "      <td>TXTL</td>\n",
       "      <td>...</td>\n",
       "      <td>0.4</td>\n",
       "      <td>8.6</td>\n",
       "      <td>0.4</td>\n",
       "      <td>35</td>\n",
       "      <td>-3</td>\n",
       "      <td>never</td>\n",
       "      <td>False</td>\n",
       "      <td>20</td>\n",
       "      <td>30</td>\n",
       "      <td>2022-07-06</td>\n",
       "    </tr>\n",
       "    <tr>\n",
       "      <th>13716</th>\n",
       "      <td>J15</td>\n",
       "      <td>Sample X7</td>\n",
       "      <td>718</td>\n",
       "      <td>76</td>\n",
       "      <td>800</td>\n",
       "      <td>485_520</td>\n",
       "      <td>GFP</td>\n",
       "      <td>s70_deGFP_MGA</td>\n",
       "      <td>Michael_ES_001</td>\n",
       "      <td>TXTL</td>\n",
       "      <td>...</td>\n",
       "      <td>0.4</td>\n",
       "      <td>8.6</td>\n",
       "      <td>0.4</td>\n",
       "      <td>35</td>\n",
       "      <td>-3</td>\n",
       "      <td>never</td>\n",
       "      <td>False</td>\n",
       "      <td>20</td>\n",
       "      <td>30</td>\n",
       "      <td>2022-07-06</td>\n",
       "    </tr>\n",
       "    <tr>\n",
       "      <th>13717</th>\n",
       "      <td>J17</td>\n",
       "      <td>Sample X8</td>\n",
       "      <td>718</td>\n",
       "      <td>98</td>\n",
       "      <td>800</td>\n",
       "      <td>485_520</td>\n",
       "      <td>GFP</td>\n",
       "      <td>s70_deGFP_MGA</td>\n",
       "      <td>Michael_ES_001</td>\n",
       "      <td>TXTL</td>\n",
       "      <td>...</td>\n",
       "      <td>0.4</td>\n",
       "      <td>8.6</td>\n",
       "      <td>0.4</td>\n",
       "      <td>35</td>\n",
       "      <td>-3</td>\n",
       "      <td>never</td>\n",
       "      <td>False</td>\n",
       "      <td>20</td>\n",
       "      <td>30</td>\n",
       "      <td>2022-07-06</td>\n",
       "    </tr>\n",
       "    <tr>\n",
       "      <th>13718</th>\n",
       "      <td>J19</td>\n",
       "      <td>Sample X9</td>\n",
       "      <td>718</td>\n",
       "      <td>76</td>\n",
       "      <td>800</td>\n",
       "      <td>485_520</td>\n",
       "      <td>GFP</td>\n",
       "      <td>s70_deGFP_MGA</td>\n",
       "      <td>Michael_ES_001</td>\n",
       "      <td>TXTL</td>\n",
       "      <td>...</td>\n",
       "      <td>0.4</td>\n",
       "      <td>8.6</td>\n",
       "      <td>0.4</td>\n",
       "      <td>35</td>\n",
       "      <td>-3</td>\n",
       "      <td>never</td>\n",
       "      <td>False</td>\n",
       "      <td>20</td>\n",
       "      <td>30</td>\n",
       "      <td>2022-07-06</td>\n",
       "    </tr>\n",
       "    <tr>\n",
       "      <th>13719</th>\n",
       "      <td>J21</td>\n",
       "      <td>Sample X10</td>\n",
       "      <td>718</td>\n",
       "      <td>110</td>\n",
       "      <td>800</td>\n",
       "      <td>485_520</td>\n",
       "      <td>GFP</td>\n",
       "      <td>s70_deGFP_MGA</td>\n",
       "      <td>Michael_ES_001</td>\n",
       "      <td>TXTL</td>\n",
       "      <td>...</td>\n",
       "      <td>0.4</td>\n",
       "      <td>8.6</td>\n",
       "      <td>0.4</td>\n",
       "      <td>35</td>\n",
       "      <td>-3</td>\n",
       "      <td>never</td>\n",
       "      <td>False</td>\n",
       "      <td>20</td>\n",
       "      <td>30</td>\n",
       "      <td>2022-07-06</td>\n",
       "    </tr>\n",
       "  </tbody>\n",
       "</table>\n",
       "<p>13720 rows × 27 columns</p>\n",
       "</div>"
      ],
      "text/plain": [
       "      Well   Sample ID  Time (Minutes)  RFUs  Gain Setting Chromatic Settings  \\\n",
       "0      B12   Sample X1               0  3323          1500          485_520_2   \n",
       "1      B13   Sample X2               0  3397          1500          485_520_2   \n",
       "2      B14   Sample X3               0  3221          1500          485_520_2   \n",
       "3      B15   Sample X4               0  3233          1500          485_520_2   \n",
       "4      B16   Sample X5               0  3220          1500          485_520_2   \n",
       "...    ...         ...             ...   ...           ...                ...   \n",
       "13715  J13   Sample X6             718   148           800            485_520   \n",
       "13716  J15   Sample X7             718    76           800            485_520   \n",
       "13717  J17   Sample X8             718    98           800            485_520   \n",
       "13718  J19   Sample X9             718    76           800            485_520   \n",
       "13719  J21  Sample X10             718   110           800            485_520   \n",
       "\n",
       "      Expression Product Amplicon DNA Template Energy Solution Reaction Type  \\\n",
       "0                    GFP         s70_deGFP_MGA  Michael_ES_001          TXTL   \n",
       "1                    GFP         s70_deGFP_MGA  Michael_ES_001          TXTL   \n",
       "2                    GFP         s70_deGFP_MGA  Michael_ES_001          TXTL   \n",
       "3                    GFP         s70_deGFP_MGA  Michael_ES_001          TXTL   \n",
       "4                    GFP         s70_deGFP_MGA  Michael_ES_001          TXTL   \n",
       "...                  ...                   ...             ...           ...   \n",
       "13715                GFP         s70_deGFP_MGA  Michael_ES_001          TXTL   \n",
       "13716                GFP         s70_deGFP_MGA  Michael_ES_001          TXTL   \n",
       "13717                GFP         s70_deGFP_MGA  Michael_ES_001          TXTL   \n",
       "13718                GFP         s70_deGFP_MGA  Michael_ES_001          TXTL   \n",
       "13719                GFP         s70_deGFP_MGA  Michael_ES_001          TXTL   \n",
       "\n",
       "       ...  lysate_aspirate_height_inc substrates_aspirate_height_init  \\\n",
       "0      ...                         0.4                             9.0   \n",
       "1      ...                         0.4                             9.0   \n",
       "2      ...                         0.4                             9.0   \n",
       "3      ...                         0.4                             9.0   \n",
       "4      ...                         0.4                             9.0   \n",
       "...    ...                         ...                             ...   \n",
       "13715  ...                         0.4                             8.6   \n",
       "13716  ...                         0.4                             8.6   \n",
       "13717  ...                         0.4                             8.6   \n",
       "13718  ...                         0.4                             8.6   \n",
       "13719  ...                         0.4                             8.6   \n",
       "\n",
       "       substrates_aspirate_height_inc wax_dispense_volume wax_dispense_height  \\\n",
       "0                                 0.4                  35                   5   \n",
       "1                                 0.4                  35                   5   \n",
       "2                                 0.4                  35                   5   \n",
       "3                                 0.4                  35                   5   \n",
       "4                                 0.4                  35                   5   \n",
       "...                               ...                 ...                 ...   \n",
       "13715                             0.4                  35                  -3   \n",
       "13716                             0.4                  35                  -3   \n",
       "13717                             0.4                  35                  -3   \n",
       "13718                             0.4                  35                  -3   \n",
       "13719                             0.4                  35                  -3   \n",
       "\n",
       "       wax_new_tip  wax_touch_tip  wax_air_gap  wax_disposal_volume  \\\n",
       "0            never           True           20                   30   \n",
       "1            never           True           20                   30   \n",
       "2            never           True           20                   30   \n",
       "3            never           True           20                   30   \n",
       "4            never           True           20                   30   \n",
       "...            ...            ...          ...                  ...   \n",
       "13715        never          False           20                   30   \n",
       "13716        never          False           20                   30   \n",
       "13717        never          False           20                   30   \n",
       "13718        never          False           20                   30   \n",
       "13719        never          False           20                   30   \n",
       "\n",
       "       Assay Date  \n",
       "0      2022-01-06  \n",
       "1      2022-01-06  \n",
       "2      2022-01-06  \n",
       "3      2022-01-06  \n",
       "4      2022-01-06  \n",
       "...           ...  \n",
       "13715  2022-07-06  \n",
       "13716  2022-07-06  \n",
       "13717  2022-07-06  \n",
       "13718  2022-07-06  \n",
       "13719  2022-07-06  \n",
       "\n",
       "[13720 rows x 27 columns]"
      ]
     },
     "execution_count": 3,
     "metadata": {},
     "output_type": "execute_result"
    }
   ],
   "source": [
    "os.chdir('/app/data/')\n",
    "\n",
    "all_data = pd.read_csv(\"master_tidy_dataset.csv\")\n",
    "\n",
    "all_data"
   ]
  },
  {
   "cell_type": "markdown",
   "metadata": {},
   "source": [
    "# Trim data to only get GFP gain 800 at time 180 mins"
   ]
  },
  {
   "cell_type": "code",
   "execution_count": 4,
   "metadata": {},
   "outputs": [],
   "source": [
    "Selection = all_data[all_data['Expression Product'] == \"GFP\"].copy()\n",
    "Selection = Selection[Selection['Gain Setting'] == 800]\n",
    "Selection = Selection[Selection[\"Time (Minutes)\"] == 180]\n"
   ]
  },
  {
   "cell_type": "markdown",
   "metadata": {},
   "source": [
    "# Generate summary stats:\n",
    "\n",
    "Mean and SEM for each experiment"
   ]
  },
  {
   "cell_type": "code",
   "execution_count": 5,
   "metadata": {},
   "outputs": [],
   "source": [
    "\n",
    "exp_slct_list = []\n",
    "for exp in Selection['Experiment #'].unique():\n",
    "    \n",
    "    exp_slct = Selection[Selection['Experiment #'] == exp].copy()\n",
    "    \n",
    "    exp_slct['Mean'] = exp_slct['RFUs'].mean()\n",
    "    exp_slct['SEM'] = exp_slct['RFUs'].sem()\n",
    "    \n",
    "    exp_slct_list.append(exp_slct)\n",
    "\n",
    "Selection = pd.concat(exp_slct_list,axis=0)\n",
    "Selection['SEM/Mean'] = Selection['SEM']/Selection['Mean']\n"
   ]
  },
  {
   "cell_type": "code",
   "execution_count": 6,
   "metadata": {},
   "outputs": [
    {
     "data": {
      "text/plain": [
       "Index(['Well', 'Sample ID', 'Time (Minutes)', 'RFUs', 'Gain Setting',\n",
       "       'Chromatic Settings', 'Expression Product', 'Amplicon DNA Template',\n",
       "       'Energy Solution', 'Reaction Type', 'Replicate', 'System',\n",
       "       'Reaction Temperature (°C)', 'Performed by', 'Instrument',\n",
       "       'Experiment #', 'lysate_aspirate_height_init',\n",
       "       'lysate_aspirate_height_inc', 'substrates_aspirate_height_init',\n",
       "       'substrates_aspirate_height_inc', 'wax_dispense_volume',\n",
       "       'wax_dispense_height', 'wax_new_tip', 'wax_touch_tip', 'wax_air_gap',\n",
       "       'wax_disposal_volume', 'Assay Date', 'Mean', 'SEM', 'SEM/Mean'],\n",
       "      dtype='object')"
      ]
     },
     "execution_count": 6,
     "metadata": {},
     "output_type": "execute_result"
    }
   ],
   "source": [
    "Selection.columns"
   ]
  },
  {
   "cell_type": "code",
   "execution_count": 7,
   "metadata": {},
   "outputs": [],
   "source": [
    "\n",
    "new =  Selection[[\"SEM/Mean\", \"substrates_aspirate_height_inc\",\"substrates_aspirate_height_init\", \"lysate_aspirate_height_inc\", \"lysate_aspirate_height_init\"]]\n",
    "\n",
    "new = new.drop_duplicates()\n",
    "\n",
    "new = new.reset_index(drop=True)"
   ]
  },
  {
   "cell_type": "code",
   "execution_count": 8,
   "metadata": {},
   "outputs": [
    {
     "data": {
      "text/html": [
       "<div>\n",
       "<style scoped>\n",
       "    .dataframe tbody tr th:only-of-type {\n",
       "        vertical-align: middle;\n",
       "    }\n",
       "\n",
       "    .dataframe tbody tr th {\n",
       "        vertical-align: top;\n",
       "    }\n",
       "\n",
       "    .dataframe thead th {\n",
       "        text-align: right;\n",
       "    }\n",
       "</style>\n",
       "<table border=\"1\" class=\"dataframe\">\n",
       "  <thead>\n",
       "    <tr style=\"text-align: right;\">\n",
       "      <th></th>\n",
       "      <th>SEM/Mean</th>\n",
       "      <th>substrates_aspirate_height_inc</th>\n",
       "      <th>substrates_aspirate_height_init</th>\n",
       "      <th>lysate_aspirate_height_inc</th>\n",
       "      <th>lysate_aspirate_height_init</th>\n",
       "    </tr>\n",
       "  </thead>\n",
       "  <tbody>\n",
       "    <tr>\n",
       "      <th>0</th>\n",
       "      <td>0.010083</td>\n",
       "      <td>0.4</td>\n",
       "      <td>9.0</td>\n",
       "      <td>0.4</td>\n",
       "      <td>4.5</td>\n",
       "    </tr>\n",
       "    <tr>\n",
       "      <th>1</th>\n",
       "      <td>0.035281</td>\n",
       "      <td>0.4</td>\n",
       "      <td>9.0</td>\n",
       "      <td>0.4</td>\n",
       "      <td>4.5</td>\n",
       "    </tr>\n",
       "    <tr>\n",
       "      <th>2</th>\n",
       "      <td>0.374904</td>\n",
       "      <td>0.4</td>\n",
       "      <td>9.0</td>\n",
       "      <td>0.4</td>\n",
       "      <td>4.5</td>\n",
       "    </tr>\n",
       "    <tr>\n",
       "      <th>3</th>\n",
       "      <td>0.023406</td>\n",
       "      <td>0.4</td>\n",
       "      <td>8.6</td>\n",
       "      <td>0.4</td>\n",
       "      <td>4.5</td>\n",
       "    </tr>\n",
       "  </tbody>\n",
       "</table>\n",
       "</div>"
      ],
      "text/plain": [
       "   SEM/Mean  substrates_aspirate_height_inc  substrates_aspirate_height_init  \\\n",
       "0  0.010083                             0.4                              9.0   \n",
       "1  0.035281                             0.4                              9.0   \n",
       "2  0.374904                             0.4                              9.0   \n",
       "3  0.023406                             0.4                              8.6   \n",
       "\n",
       "   lysate_aspirate_height_inc  lysate_aspirate_height_init  \n",
       "0                         0.4                          4.5  \n",
       "1                         0.4                          4.5  \n",
       "2                         0.4                          4.5  \n",
       "3                         0.4                          4.5  "
      ]
     },
     "execution_count": 8,
     "metadata": {},
     "output_type": "execute_result"
    }
   ],
   "source": [
    "new"
   ]
  },
  {
   "cell_type": "markdown",
   "metadata": {},
   "source": [
    "# Set up GP"
   ]
  },
  {
   "cell_type": "code",
   "execution_count": 9,
   "metadata": {},
   "outputs": [],
   "source": [
    "os.chdir('/app/data/')\n",
    "\n",
    "import os\n",
    "\n",
    "os.environ['MKL_NUM_THREADS'] = '1'\n",
    "os.environ['OPENBLAS_NUM_THREADS'] = '1'"
   ]
  },
  {
   "cell_type": "code",
   "execution_count": 10,
   "metadata": {},
   "outputs": [
    {
     "data": {
      "text/html": [
       "<div>\n",
       "<style scoped>\n",
       "    .dataframe tbody tr th:only-of-type {\n",
       "        vertical-align: middle;\n",
       "    }\n",
       "\n",
       "    .dataframe tbody tr th {\n",
       "        vertical-align: top;\n",
       "    }\n",
       "\n",
       "    .dataframe thead th {\n",
       "        text-align: right;\n",
       "    }\n",
       "</style>\n",
       "<table border=\"1\" class=\"dataframe\">\n",
       "  <thead>\n",
       "    <tr style=\"text-align: right;\">\n",
       "      <th></th>\n",
       "      <th>Xloc</th>\n",
       "      <th>Yloc</th>\n",
       "      <th>V</th>\n",
       "      <th>U</th>\n",
       "      <th>T</th>\n",
       "    </tr>\n",
       "    <tr>\n",
       "      <th>ID</th>\n",
       "      <th></th>\n",
       "      <th></th>\n",
       "      <th></th>\n",
       "      <th></th>\n",
       "      <th></th>\n",
       "    </tr>\n",
       "  </thead>\n",
       "  <tbody>\n",
       "    <tr>\n",
       "      <th>1</th>\n",
       "      <td>11</td>\n",
       "      <td>8</td>\n",
       "      <td>0.0</td>\n",
       "      <td>1.000000e+31</td>\n",
       "      <td>2</td>\n",
       "    </tr>\n",
       "    <tr>\n",
       "      <th>2</th>\n",
       "      <td>8</td>\n",
       "      <td>30</td>\n",
       "      <td>0.0</td>\n",
       "      <td>1.000000e+31</td>\n",
       "      <td>2</td>\n",
       "    </tr>\n",
       "    <tr>\n",
       "      <th>3</th>\n",
       "      <td>9</td>\n",
       "      <td>48</td>\n",
       "      <td>224.4</td>\n",
       "      <td>1.000000e+31</td>\n",
       "      <td>2</td>\n",
       "    </tr>\n",
       "    <tr>\n",
       "      <th>4</th>\n",
       "      <td>8</td>\n",
       "      <td>69</td>\n",
       "      <td>434.4</td>\n",
       "      <td>1.000000e+31</td>\n",
       "      <td>2</td>\n",
       "    </tr>\n",
       "    <tr>\n",
       "      <th>5</th>\n",
       "      <td>9</td>\n",
       "      <td>90</td>\n",
       "      <td>412.1</td>\n",
       "      <td>1.000000e+31</td>\n",
       "      <td>2</td>\n",
       "    </tr>\n",
       "  </tbody>\n",
       "</table>\n",
       "</div>"
      ],
      "text/plain": [
       "    Xloc  Yloc      V             U  T\n",
       "ID                                    \n",
       "1     11     8    0.0  1.000000e+31  2\n",
       "2      8    30    0.0  1.000000e+31  2\n",
       "3      9    48  224.4  1.000000e+31  2\n",
       "4      8    69  434.4  1.000000e+31  2\n",
       "5      9    90  412.1  1.000000e+31  2"
      ]
     },
     "execution_count": 10,
     "metadata": {},
     "output_type": "execute_result"
    }
   ],
   "source": [
    "walker_data = pd.read_table('walker.txt', sep='\\s+', index_col=0, skiprows=8, header=None, \n",
    "              names=['ID', 'Xloc', 'Yloc', 'V', 'U', 'T'])\n",
    "walker_data.head()\n"
   ]
  },
  {
   "cell_type": "code",
   "execution_count": 11,
   "metadata": {},
   "outputs": [
    {
     "data": {
      "image/png": "[encoded data removed]",
      "text/plain": [
       "<Figure size 720x576 with 1 Axes>"
      ]
     },
     "metadata": {},
     "output_type": "display_data"
    }
   ],
   "source": [
    "nx = 40\n",
    "x1, x2 = np.meshgrid(np.linspace(0,300,nx), np.linspace(0,300,nx))\n",
    "X = np.concatenate([x1.reshape(nx*nx, 1), x2.reshape(nx*nx, 1)], 1)\n",
    "\n",
    "X_obs = walker_data[['Xloc', 'Yloc']].values\n",
    "y_obs = walker_data.V.values\n",
    "\n",
    "with sns.axes_style(\"white\"):\n",
    "    plt.figure(figsize=(10,8))\n",
    "    plt.scatter(X_obs[:,0], X_obs[:,1], s=50, c=y_obs, marker='s', cmap=plt.cm.viridis);"
   ]
  },
  {
   "cell_type": "code",
   "execution_count": 12,
   "metadata": {},
   "outputs": [],
   "source": [
    "nd = 15\n",
    "xu1, xu2 = np.meshgrid(np.linspace(0, 300, nd), np.linspace(0, 300, nd))\n",
    "Xu = np.concatenate([xu1.reshape(nd*nd, 1), xu2.reshape(nd*nd, 1)], 1)"
   ]
  },
  {
   "cell_type": "code",
   "execution_count": 13,
   "metadata": {},
   "outputs": [
    {
     "data": {
      "text/html": [
       "\n",
       "<style>\n",
       "    /* Turns off some styling */\n",
       "    progress {\n",
       "        /* gets rid of default border in Firefox and Opera. */\n",
       "        border: none;\n",
       "        /* Needs to be in here for Safari polyfill so background images work as expected. */\n",
       "        background-size: auto;\n",
       "    }\n",
       "    .progress-bar-interrupted, .progress-bar-interrupted::-webkit-progress-bar {\n",
       "        background: #F44336;\n",
       "    }\n",
       "</style>\n"
      ],
      "text/plain": [
       "<IPython.core.display.HTML object>"
      ]
     },
     "metadata": {},
     "output_type": "display_data"
    },
    {
     "data": {
      "text/html": [
       "\n",
       "    <div>\n",
       "      <progress value='44' class='' max='44' style='width:300px; height:20px; vertical-align: middle;'></progress>\n",
       "      100.00% [44/44 00:02<00:00 logp = -3,304.5, ||grad|| = 0.037952]\n",
       "    </div>\n",
       "    "
      ],
      "text/plain": [
       "<IPython.core.display.HTML object>"
      ]
     },
     "metadata": {},
     "output_type": "display_data"
    },
    {
     "name": "stdout",
     "output_type": "stream",
     "text": [
      "\n"
     ]
    }
   ],
   "source": [
    "\n",
    "with pm.Model() as spatial_model:\n",
    "    \n",
    "    l = pm.HalfCauchy(\"l\", beta=3, shape=(2,))\n",
    "    sf2 = pm.HalfCauchy(\"sf2\", beta=3)\n",
    "    sn2 = pm.HalfCauchy(\"sn2\", beta=3)\n",
    "\n",
    "    K = pm.gp.cov.ExpQuad(2, l) * sf2**2\n",
    "    \n",
    "    gp_spatial = pm.gp.MarginalSparse(cov_func=K, approx=\"FITC\")\n",
    "    obs = gp_spatial.marginal_likelihood(\"obs\", X=X_obs, Xu=Xu, y=y_obs, noise=sn2)\n",
    "\n",
    "    mp = pm.find_MAP()"
   ]
  },
  {
   "cell_type": "code",
   "execution_count": 14,
   "metadata": {},
   "outputs": [],
   "source": [
    "nd = 30\n",
    "z1, z2 = np.meshgrid(np.linspace(0, 300, nd), np.linspace(0, 300, nd))\n",
    "Z = np.concatenate([z1.reshape(nd*nd, 1), z2.reshape(nd*nd, 1)], 1)"
   ]
  },
  {
   "cell_type": "code",
   "execution_count": 15,
   "metadata": {},
   "outputs": [
    {
     "ename": "KeyError",
     "evalue": "f_pred ~ MvNormal",
     "output_type": "error",
     "traceback": [
      "\u001b[0;31m---------------------------------------------------------------------------\u001b[0m",
      "\u001b[0;31mKeyError\u001b[0m                                  Traceback (most recent call last)",
      "File \u001b[0;32m/usr/local/lib/python3.10/dist-packages/pymc3/model.py:1236\u001b[0m, in \u001b[0;36mModel.__getitem__\u001b[0;34m(self, key)\u001b[0m\n\u001b[1;32m   1235\u001b[0m \u001b[38;5;28;01mtry\u001b[39;00m:\n\u001b[0;32m-> 1236\u001b[0m     \u001b[38;5;28;01mreturn\u001b[39;00m \u001b[38;5;28;43mself\u001b[39;49m\u001b[38;5;241;43m.\u001b[39;49m\u001b[43mnamed_vars\u001b[49m\u001b[43m[\u001b[49m\u001b[38;5;28;43mself\u001b[39;49m\u001b[38;5;241;43m.\u001b[39;49m\u001b[43mname_for\u001b[49m\u001b[43m(\u001b[49m\u001b[43mkey\u001b[49m\u001b[43m)\u001b[49m\u001b[43m]\u001b[49m\n\u001b[1;32m   1237\u001b[0m \u001b[38;5;28;01mexcept\u001b[39;00m \u001b[38;5;167;01mKeyError\u001b[39;00m:\n",
      "\u001b[0;31mKeyError\u001b[0m: f_pred ~ MvNormal",
      "\nDuring handling of the above exception, another exception occurred:\n",
      "\u001b[0;31mKeyError\u001b[0m                                  Traceback (most recent call last)",
      "Input \u001b[0;32mIn [15]\u001b[0m, in \u001b[0;36m<cell line: 1>\u001b[0;34m()\u001b[0m\n\u001b[1;32m      1\u001b[0m \u001b[38;5;28;01mwith\u001b[39;00m spatial_model:\n\u001b[1;32m      3\u001b[0m     f_pred \u001b[38;5;241m=\u001b[39m gp_spatial\u001b[38;5;241m.\u001b[39mconditional(\u001b[38;5;124m'\u001b[39m\u001b[38;5;124mf_pred\u001b[39m\u001b[38;5;124m'\u001b[39m, Z)\n\u001b[0;32m----> 5\u001b[0m     samples \u001b[38;5;241m=\u001b[39m \u001b[43mpm\u001b[49m\u001b[38;5;241;43m.\u001b[39;49m\u001b[43msample_posterior_predictive\u001b[49m\u001b[43m(\u001b[49m\u001b[43m[\u001b[49m\u001b[43mmp\u001b[49m\u001b[43m]\u001b[49m\u001b[43m,\u001b[49m\u001b[43m \u001b[49m\u001b[43mvar_names\u001b[49m\u001b[38;5;241;43m=\u001b[39;49m\u001b[43m[\u001b[49m\u001b[43mf_pred\u001b[49m\u001b[43m]\u001b[49m\u001b[43m,\u001b[49m\u001b[43m \u001b[49m\u001b[43msamples\u001b[49m\u001b[38;5;241;43m=\u001b[39;49m\u001b[38;5;241;43m100\u001b[39;49m\u001b[43m)\u001b[49m\n",
      "File \u001b[0;32m/usr/local/lib/python3.10/dist-packages/pymc3/sampling.py:1724\u001b[0m, in \u001b[0;36msample_posterior_predictive\u001b[0;34m(trace, samples, model, var_names, size, keep_size, random_seed, progressbar)\u001b[0m\n\u001b[1;32m   1717\u001b[0m     warnings\u001b[38;5;241m.\u001b[39mwarn(\n\u001b[1;32m   1718\u001b[0m         \u001b[38;5;124m\"\u001b[39m\u001b[38;5;124mThe effect of Potentials on other parameters is ignored during posterior predictive sampling. \u001b[39m\u001b[38;5;124m\"\u001b[39m\n\u001b[1;32m   1719\u001b[0m         \u001b[38;5;124m\"\u001b[39m\u001b[38;5;124mThis is likely to lead to invalid or biased predictive samples.\u001b[39m\u001b[38;5;124m\"\u001b[39m,\n\u001b[1;32m   1720\u001b[0m         \u001b[38;5;167;01mUserWarning\u001b[39;00m,\n\u001b[1;32m   1721\u001b[0m     )\n\u001b[1;32m   1723\u001b[0m \u001b[38;5;28;01mif\u001b[39;00m var_names \u001b[38;5;129;01mis\u001b[39;00m \u001b[38;5;129;01mnot\u001b[39;00m \u001b[38;5;28;01mNone\u001b[39;00m:\n\u001b[0;32m-> 1724\u001b[0m     vars_ \u001b[38;5;241m=\u001b[39m [model[x] \u001b[38;5;28;01mfor\u001b[39;00m x \u001b[38;5;129;01min\u001b[39;00m var_names]\n\u001b[1;32m   1725\u001b[0m \u001b[38;5;28;01melse\u001b[39;00m:\n\u001b[1;32m   1726\u001b[0m     vars_ \u001b[38;5;241m=\u001b[39m model\u001b[38;5;241m.\u001b[39mobserved_RVs\n",
      "File \u001b[0;32m/usr/local/lib/python3.10/dist-packages/pymc3/sampling.py:1724\u001b[0m, in \u001b[0;36m<listcomp>\u001b[0;34m(.0)\u001b[0m\n\u001b[1;32m   1717\u001b[0m     warnings\u001b[38;5;241m.\u001b[39mwarn(\n\u001b[1;32m   1718\u001b[0m         \u001b[38;5;124m\"\u001b[39m\u001b[38;5;124mThe effect of Potentials on other parameters is ignored during posterior predictive sampling. \u001b[39m\u001b[38;5;124m\"\u001b[39m\n\u001b[1;32m   1719\u001b[0m         \u001b[38;5;124m\"\u001b[39m\u001b[38;5;124mThis is likely to lead to invalid or biased predictive samples.\u001b[39m\u001b[38;5;124m\"\u001b[39m,\n\u001b[1;32m   1720\u001b[0m         \u001b[38;5;167;01mUserWarning\u001b[39;00m,\n\u001b[1;32m   1721\u001b[0m     )\n\u001b[1;32m   1723\u001b[0m \u001b[38;5;28;01mif\u001b[39;00m var_names \u001b[38;5;129;01mis\u001b[39;00m \u001b[38;5;129;01mnot\u001b[39;00m \u001b[38;5;28;01mNone\u001b[39;00m:\n\u001b[0;32m-> 1724\u001b[0m     vars_ \u001b[38;5;241m=\u001b[39m [\u001b[43mmodel\u001b[49m\u001b[43m[\u001b[49m\u001b[43mx\u001b[49m\u001b[43m]\u001b[49m \u001b[38;5;28;01mfor\u001b[39;00m x \u001b[38;5;129;01min\u001b[39;00m var_names]\n\u001b[1;32m   1725\u001b[0m \u001b[38;5;28;01melse\u001b[39;00m:\n\u001b[1;32m   1726\u001b[0m     vars_ \u001b[38;5;241m=\u001b[39m model\u001b[38;5;241m.\u001b[39mobserved_RVs\n",
      "File \u001b[0;32m/usr/local/lib/python3.10/dist-packages/pymc3/model.py:1238\u001b[0m, in \u001b[0;36mModel.__getitem__\u001b[0;34m(self, key)\u001b[0m\n\u001b[1;32m   1236\u001b[0m     \u001b[38;5;28;01mreturn\u001b[39;00m \u001b[38;5;28mself\u001b[39m\u001b[38;5;241m.\u001b[39mnamed_vars[\u001b[38;5;28mself\u001b[39m\u001b[38;5;241m.\u001b[39mname_for(key)]\n\u001b[1;32m   1237\u001b[0m \u001b[38;5;28;01mexcept\u001b[39;00m \u001b[38;5;167;01mKeyError\u001b[39;00m:\n\u001b[0;32m-> 1238\u001b[0m     \u001b[38;5;28;01mraise\u001b[39;00m e\n",
      "File \u001b[0;32m/usr/local/lib/python3.10/dist-packages/pymc3/model.py:1233\u001b[0m, in \u001b[0;36mModel.__getitem__\u001b[0;34m(self, key)\u001b[0m\n\u001b[1;32m   1231\u001b[0m \u001b[38;5;28;01mdef\u001b[39;00m \u001b[38;5;21m__getitem__\u001b[39m(\u001b[38;5;28mself\u001b[39m, key):\n\u001b[1;32m   1232\u001b[0m     \u001b[38;5;28;01mtry\u001b[39;00m:\n\u001b[0;32m-> 1233\u001b[0m         \u001b[38;5;28;01mreturn\u001b[39;00m \u001b[38;5;28;43mself\u001b[39;49m\u001b[38;5;241;43m.\u001b[39;49m\u001b[43mnamed_vars\u001b[49m\u001b[43m[\u001b[49m\u001b[43mkey\u001b[49m\u001b[43m]\u001b[49m\n\u001b[1;32m   1234\u001b[0m     \u001b[38;5;28;01mexcept\u001b[39;00m \u001b[38;5;167;01mKeyError\u001b[39;00m \u001b[38;5;28;01mas\u001b[39;00m e:\n\u001b[1;32m   1235\u001b[0m         \u001b[38;5;28;01mtry\u001b[39;00m:\n",
      "\u001b[0;31mKeyError\u001b[0m: f_pred ~ MvNormal"
     ]
    }
   ],
   "source": [
    "with spatial_model:\n",
    "\n",
    "    f_pred = gp_spatial.conditional('f_pred', Z)"
   ]
  },
  {
   "cell_type": "code",
   "execution_count": 19,
   "metadata": {},
   "outputs": [
    {
     "name": "stdout",
     "output_type": "stream",
     "text": [
      "f_pred ~ MvNormal\n"
     ]
    }
   ],
   "source": [
    "print(f_pred)"
   ]
  },
  {
   "cell_type": "code",
   "execution_count": 18,
   "metadata": {},
   "outputs": [
    {
     "data": {
      "text/html": [
       "\n",
       "<style>\n",
       "    /* Turns off some styling */\n",
       "    progress {\n",
       "        /* gets rid of default border in Firefox and Opera. */\n",
       "        border: none;\n",
       "        /* Needs to be in here for Safari polyfill so background images work as expected. */\n",
       "        background-size: auto;\n",
       "    }\n",
       "    .progress-bar-interrupted, .progress-bar-interrupted::-webkit-progress-bar {\n",
       "        background: #F44336;\n",
       "    }\n",
       "</style>\n"
      ],
      "text/plain": [
       "<IPython.core.display.HTML object>"
      ]
     },
     "metadata": {},
     "output_type": "display_data"
    },
    {
     "data": {
      "text/html": [
       "\n",
       "    <div>\n",
       "      <progress value='0' class='' max='100' style='width:300px; height:20px; vertical-align: middle;'></progress>\n",
       "      0.00% [0/100 00:00<00:00]\n",
       "    </div>\n",
       "    "
      ],
      "text/plain": [
       "<IPython.core.display.HTML object>"
      ]
     },
     "metadata": {},
     "output_type": "display_data"
    },
    {
     "ename": "ValueError",
     "evalue": "Distribution was not passed any random method. Define a custom random method and pass it as kwarg random",
     "output_type": "error",
     "traceback": [
      "\u001b[0;31m---------------------------------------------------------------------------\u001b[0m",
      "\u001b[0;31mValueError\u001b[0m                                Traceback (most recent call last)",
      "File \u001b[0;32m/usr/local/lib/python3.10/dist-packages/pymc3/distributions/distribution.py:1025\u001b[0m, in \u001b[0;36m_draw_value\u001b[0;34m(param, point, givens, size)\u001b[0m\n\u001b[1;32m   1024\u001b[0m \u001b[38;5;28;01mtry\u001b[39;00m:\n\u001b[0;32m-> 1025\u001b[0m     \u001b[38;5;28;01mreturn\u001b[39;00m \u001b[43mdist_tmp\u001b[49m\u001b[38;5;241;43m.\u001b[39;49m\u001b[43mrandom\u001b[49m\u001b[43m(\u001b[49m\u001b[43mpoint\u001b[49m\u001b[38;5;241;43m=\u001b[39;49m\u001b[43mpoint\u001b[49m\u001b[43m,\u001b[49m\u001b[43m \u001b[49m\u001b[43msize\u001b[49m\u001b[38;5;241;43m=\u001b[39;49m\u001b[43msize\u001b[49m\u001b[43m)\u001b[49m\n\u001b[1;32m   1026\u001b[0m \u001b[38;5;28;01mexcept\u001b[39;00m (\u001b[38;5;167;01mValueError\u001b[39;00m, \u001b[38;5;167;01mTypeError\u001b[39;00m):\n\u001b[1;32m   1027\u001b[0m     \u001b[38;5;66;03m# reset shape to account for shape changes\u001b[39;00m\n\u001b[1;32m   1028\u001b[0m     \u001b[38;5;66;03m# with theano.shared inputs\u001b[39;00m\n",
      "File \u001b[0;32m/usr/local/lib/python3.10/dist-packages/pymc3/distributions/distribution.py:677\u001b[0m, in \u001b[0;36mDensityDist.random\u001b[0;34m(self, point, size, **kwargs)\u001b[0m\n\u001b[1;32m    676\u001b[0m \u001b[38;5;28;01melse\u001b[39;00m:\n\u001b[0;32m--> 677\u001b[0m     \u001b[38;5;28;01mraise\u001b[39;00m \u001b[38;5;167;01mValueError\u001b[39;00m(\n\u001b[1;32m    678\u001b[0m         \u001b[38;5;124m\"\u001b[39m\u001b[38;5;124mDistribution was not passed any random method. \u001b[39m\u001b[38;5;124m\"\u001b[39m\n\u001b[1;32m    679\u001b[0m         \u001b[38;5;124m\"\u001b[39m\u001b[38;5;124mDefine a custom random method and pass it as kwarg random\u001b[39m\u001b[38;5;124m\"\u001b[39m\n\u001b[1;32m    680\u001b[0m     )\n",
      "\u001b[0;31mValueError\u001b[0m: Distribution was not passed any random method. Define a custom random method and pass it as kwarg random",
      "\nDuring handling of the above exception, another exception occurred:\n",
      "\u001b[0;31mValueError\u001b[0m                                Traceback (most recent call last)",
      "Input \u001b[0;32mIn [18]\u001b[0m, in \u001b[0;36m<cell line: 1>\u001b[0;34m()\u001b[0m\n\u001b[1;32m      1\u001b[0m \u001b[38;5;28;01mwith\u001b[39;00m spatial_model:\n\u001b[0;32m----> 2\u001b[0m      samples \u001b[38;5;241m=\u001b[39m \u001b[43mpm\u001b[49m\u001b[38;5;241;43m.\u001b[39;49m\u001b[43msample_posterior_predictive\u001b[49m\u001b[43m(\u001b[49m\u001b[43m[\u001b[49m\u001b[43mmp\u001b[49m\u001b[43m]\u001b[49m\u001b[43m,\u001b[49m\u001b[43msamples\u001b[49m\u001b[38;5;241;43m=\u001b[39;49m\u001b[38;5;241;43m100\u001b[39;49m\u001b[43m)\u001b[49m\n",
      "File \u001b[0;32m/usr/local/lib/python3.10/dist-packages/pymc3/sampling.py:1752\u001b[0m, in \u001b[0;36msample_posterior_predictive\u001b[0;34m(trace, samples, model, var_names, size, keep_size, random_seed, progressbar)\u001b[0m\n\u001b[1;32m   1747\u001b[0m \u001b[38;5;66;03m# there's only a single chain, but the index might hit it multiple times if\u001b[39;00m\n\u001b[1;32m   1748\u001b[0m \u001b[38;5;66;03m# the number of indices is greater than the length of the trace.\u001b[39;00m\n\u001b[1;32m   1749\u001b[0m \u001b[38;5;28;01melse\u001b[39;00m:\n\u001b[1;32m   1750\u001b[0m     param \u001b[38;5;241m=\u001b[39m _trace[idx \u001b[38;5;241m%\u001b[39m len_trace]\n\u001b[0;32m-> 1752\u001b[0m values \u001b[38;5;241m=\u001b[39m \u001b[43mdraw_values\u001b[49m\u001b[43m(\u001b[49m\u001b[43mvars_\u001b[49m\u001b[43m,\u001b[49m\u001b[43m \u001b[49m\u001b[43mpoint\u001b[49m\u001b[38;5;241;43m=\u001b[39;49m\u001b[43mparam\u001b[49m\u001b[43m,\u001b[49m\u001b[43m \u001b[49m\u001b[43msize\u001b[49m\u001b[38;5;241;43m=\u001b[39;49m\u001b[43msize\u001b[49m\u001b[43m)\u001b[49m\n\u001b[1;32m   1753\u001b[0m \u001b[38;5;28;01mfor\u001b[39;00m k, v \u001b[38;5;129;01min\u001b[39;00m \u001b[38;5;28mzip\u001b[39m(vars_, values):\n\u001b[1;32m   1754\u001b[0m     ppc_trace_t\u001b[38;5;241m.\u001b[39minsert(k\u001b[38;5;241m.\u001b[39mname, v, idx)\n",
      "File \u001b[0;32m/usr/local/lib/python3.10/dist-packages/pymc3/distributions/distribution.py:845\u001b[0m, in \u001b[0;36mdraw_values\u001b[0;34m(params, point, size)\u001b[0m\n\u001b[1;32m    841\u001b[0m temp_givens \u001b[38;5;241m=\u001b[39m [givens[k] \u001b[38;5;28;01mfor\u001b[39;00m k \u001b[38;5;129;01min\u001b[39;00m givens \u001b[38;5;28;01mif\u001b[39;00m k \u001b[38;5;129;01min\u001b[39;00m children]\n\u001b[1;32m    842\u001b[0m \u001b[38;5;28;01mtry\u001b[39;00m:\n\u001b[1;32m    843\u001b[0m     \u001b[38;5;66;03m# This may fail for autotransformed RVs, which don't\u001b[39;00m\n\u001b[1;32m    844\u001b[0m     \u001b[38;5;66;03m# have the random method\u001b[39;00m\n\u001b[0;32m--> 845\u001b[0m     value \u001b[38;5;241m=\u001b[39m \u001b[43m_draw_value\u001b[49m\u001b[43m(\u001b[49m\u001b[43mnext_\u001b[49m\u001b[43m,\u001b[49m\u001b[43m \u001b[49m\u001b[43mpoint\u001b[49m\u001b[38;5;241;43m=\u001b[39;49m\u001b[43mpoint\u001b[49m\u001b[43m,\u001b[49m\u001b[43m \u001b[49m\u001b[43mgivens\u001b[49m\u001b[38;5;241;43m=\u001b[39;49m\u001b[43mtemp_givens\u001b[49m\u001b[43m,\u001b[49m\u001b[43m \u001b[49m\u001b[43msize\u001b[49m\u001b[38;5;241;43m=\u001b[39;49m\u001b[43msize\u001b[49m\u001b[43m)\u001b[49m\n\u001b[1;32m    846\u001b[0m     givens[next_\u001b[38;5;241m.\u001b[39mname] \u001b[38;5;241m=\u001b[39m (next_, value)\n\u001b[1;32m    847\u001b[0m     drawn[(next_, size)] \u001b[38;5;241m=\u001b[39m value\n",
      "File \u001b[0;32m/usr/local/lib/python3.10/dist-packages/pymc3/distributions/distribution.py:1033\u001b[0m, in \u001b[0;36m_draw_value\u001b[0;34m(param, point, givens, size)\u001b[0m\n\u001b[1;32m   1030\u001b[0m \u001b[38;5;66;03m# We want to draw values to infer the dist_shape,\u001b[39;00m\n\u001b[1;32m   1031\u001b[0m \u001b[38;5;66;03m# we don't want to store these drawn values to the context\u001b[39;00m\n\u001b[1;32m   1032\u001b[0m \u001b[38;5;28;01mwith\u001b[39;00m _DrawValuesContextBlocker():\n\u001b[0;32m-> 1033\u001b[0m     val \u001b[38;5;241m=\u001b[39m np\u001b[38;5;241m.\u001b[39matleast_1d(\u001b[43mdist_tmp\u001b[49m\u001b[38;5;241;43m.\u001b[39;49m\u001b[43mrandom\u001b[49m\u001b[43m(\u001b[49m\u001b[43mpoint\u001b[49m\u001b[38;5;241;43m=\u001b[39;49m\u001b[43mpoint\u001b[49m\u001b[43m,\u001b[49m\u001b[43m \u001b[49m\u001b[43msize\u001b[49m\u001b[38;5;241;43m=\u001b[39;49m\u001b[38;5;28;43;01mNone\u001b[39;49;00m\u001b[43m)\u001b[49m)\n\u001b[1;32m   1034\u001b[0m \u001b[38;5;66;03m# Sometimes point may change the size of val but not the\u001b[39;00m\n\u001b[1;32m   1035\u001b[0m \u001b[38;5;66;03m# distribution's shape\u001b[39;00m\n\u001b[1;32m   1036\u001b[0m \u001b[38;5;28;01mif\u001b[39;00m point \u001b[38;5;129;01mand\u001b[39;00m size \u001b[38;5;129;01mis\u001b[39;00m \u001b[38;5;129;01mnot\u001b[39;00m \u001b[38;5;28;01mNone\u001b[39;00m:\n",
      "File \u001b[0;32m/usr/local/lib/python3.10/dist-packages/pymc3/distributions/distribution.py:677\u001b[0m, in \u001b[0;36mDensityDist.random\u001b[0;34m(self, point, size, **kwargs)\u001b[0m\n\u001b[1;32m    675\u001b[0m     \u001b[38;5;28;01mreturn\u001b[39;00m samples\n\u001b[1;32m    676\u001b[0m \u001b[38;5;28;01melse\u001b[39;00m:\n\u001b[0;32m--> 677\u001b[0m     \u001b[38;5;28;01mraise\u001b[39;00m \u001b[38;5;167;01mValueError\u001b[39;00m(\n\u001b[1;32m    678\u001b[0m         \u001b[38;5;124m\"\u001b[39m\u001b[38;5;124mDistribution was not passed any random method. \u001b[39m\u001b[38;5;124m\"\u001b[39m\n\u001b[1;32m    679\u001b[0m         \u001b[38;5;124m\"\u001b[39m\u001b[38;5;124mDefine a custom random method and pass it as kwarg random\u001b[39m\u001b[38;5;124m\"\u001b[39m\n\u001b[1;32m    680\u001b[0m     )\n",
      "\u001b[0;31mValueError\u001b[0m: Distribution was not passed any random method. Define a custom random method and pass it as kwarg random"
     ]
    }
   ],
   "source": [
    "with spatial_model:\n",
    "     samples = pm.sample_posterior_predictive([mp], predictions=[f_pred], samples=100)"
   ]
  },
  {
   "cell_type": "code",
   "execution_count": null,
   "metadata": {},
   "outputs": [],
   "source": [
    "with sns.axes_style(\"white\"):\n",
    "\n",
    "    plt.figure(figsize=(10,8))\n",
    "    ax = sns.heatmap(samples['f_pred'].mean(0).reshape(nd, nd), cmap='viridis')\n",
    "    ax.invert_yaxis()\n",
    "    ax.set_yticklabels([])\n",
    "    ax.set_xticklabels([])"
   ]
  },
  {
   "cell_type": "code",
   "execution_count": null,
   "metadata": {},
   "outputs": [],
   "source": []
  }
 ],
 "metadata": {
  "interpreter": {
   "hash": "949777d72b0d2535278d3dc13498b2535136f6dfe0678499012e853ee9abcab1"
  },
  "kernelspec": {
   "display_name": "Python 3 (ipykernel)",
   "language": "python",
   "name": "python3"
  },
  "language_info": {
   "codemirror_mode": {
    "name": "ipython",
    "version": 3
   },
   "file_extension": ".py",
   "mimetype": "text/x-python",
   "name": "python",
   "nbconvert_exporter": "python",
   "pygments_lexer": "ipython3",
   "version": "3.10.4"
  }
 },
 "nbformat": 4,
 "nbformat_minor": 2
}
